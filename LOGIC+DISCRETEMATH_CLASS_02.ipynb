{
  "nbformat": 4,
  "nbformat_minor": 0,
  "metadata": {
    "colab": {
      "provenance": []
    },
    "kernelspec": {
      "name": "python3",
      "display_name": "Python 3"
    },
    "language_info": {
      "name": "python"
    }
  },
  "cells": [
    {
      "cell_type": "markdown",
      "source": [
        "<div class=\"alert alert-block alert-info\">\n",
        "\n",
        "#**CLASS 02 - PROPOSITIONAL LOGIC**\n",
        "**Learning Objectives:**\n",
        "*   Understanding of Propositional Logic\n",
        "*   Understanding of Propositional Calculus\n",
        "*   Implementation in Propositional Calculus\n",
        "\n",
        "</div>\n"
      ],
      "metadata": {
        "id": "33EEpDW7pOaO"
      }
    },
    {
      "cell_type": "markdown",
      "source": [
        "## **PROPOSITIONAL LOGIC**\n",
        "\n",
        "Propositional calculus is a branch of logic. It is also called propositional logic, statement logic, sentential calculus, sentential logic, or sometimes zeroth-order logic. It deals with propositions (which can be true or false) and relations between propositions, including the construction of arguments based on them. Compound propositions are formed by connecting propositions by logical connectives. Propositions that contain no logical connectives are called atomic propositions.\n",
        "\n",
        "Unlike first-order logic, propositional logic does not deal with non-logical objects, predicates about them, or quantifiers. However, all the machinery of propositional logic is included in first-order logic and higher-order logics. In this sense, propositional logic is the foundation of first-order logic and higher-order logic. "
      ],
      "metadata": {
        "id": "kZiBpTcaqciT"
      }
    },
    {
      "cell_type": "markdown",
      "source": [
        "Logical connectives are found in natural languages. In English for example, some examples are \"and\" (conjunction), \"or\" (disjunction), \"not\" (negation) and \"if\" (but only when used to denote material conditional).\n",
        "\n",
        "The following is an example of a very simple inference within the scope of propositional logic:\n",
        "\n",
        "    Premise 1: If it's raining then it's cloudy.\n",
        "    Premise 2: It's raining.\n",
        "    Conclusion: It's cloudy.\n",
        "\n",
        "Both premises and the conclusion are propositions. The premises are taken for granted, and with the application of modus ponens (an inference rule), the conclusion follows.\n",
        "\n",
        "As propositional logic is not concerned with the structure of propositions beyond the point where they can't be decomposed any more by logical connectives, this inference can be restated replacing those atomic statements with statement letters, which are interpreted as variables representing statements:\n",
        "\n",
        "    Premise 1: P → Q \n",
        "    Premise 2: P\n",
        "    Conclusion: Q\n",
        "\n",
        "The same can be stated succinctly in the following way:\n",
        "\n",
        "    P → Q, P\n",
        "    ________\n",
        "      Q\n",
        "\n",
        "\n",
        "When P is interpreted as \"It's raining\" and Q as \"it's cloudy\" the above symbolic expressions can be seen to correspond exactly with the original expression in natural language. Not only that, but they will also correspond with any other inference of this form, which will be valid on the same basis this inference is.\n",
        "\n",
        "Propositional logic may be studied through a formal system in which formulas of a formal language may be interpreted to represent propositions. A system of axioms and inference rules allows certain formulas to be derived. These derived formulas are called theorems and may be interpreted to be true propositions. A constructed sequence of such formulas is known as a derivation or proof and the last formula of the sequence is the theorem. The derivation may be interpreted as proof of the proposition represented by the theorem.\n",
        "\n",
        "When a formal system is used to represent formal logic, only statement letters (usually capital roman letters such as P P, Q Q and R R) are represented directly. The natural language propositions that arise when they're interpreted are outside the scope of the system, and the relation between the formal system and its interpretation is likewise outside the formal system itself.\n",
        "\n",
        "In classical truth-functional propositional logic, formulas are interpreted as having precisely one of two possible truth values, the truth value of true or the truth value of false.The principle of bivalence and the law of excluded middle are upheld. Truth-functional propositional logic defined as such and systems isomorphic to it are considered to be zeroth-order logic. However, alternative propositional logics are also possible."
      ],
      "metadata": {
        "id": "E-x6A4P_r7hQ"
      }
    },
    {
      "cell_type": "markdown",
      "source": [
        "## **PROPOSITIONAL CALCULUS**\n",
        "\n",
        "In general terms, a **calculus** is a formal system that consists of a set of syntactic expressions (well-formed formulas), a distinguished subset of these expressions (axioms), plus a set of formal rules that define a specific binary relation, intended to be interpreted as logical equivalence, on the space of expressions. \n",
        "\n",
        "The following outlines a standard propositional calculus. Many different formulations exist which are all more or less equivalent, but differ in the details of:\n",
        "\n",
        "*   their language (i.e., the particular collection of primitive symbols and operator symbols)\n",
        "*   the set of axioms, or distinguished formulas, and\n",
        "*   the set of inference rules\n",
        "\n",
        "\n",
        "\n",
        "Any given proposition may be represented with a letter called a 'propositional constant', analogous to representing a number by a letter in mathematics (e.g., a = 5). All propositions require exactly one of two truth-values: true or false. For example, let P be the proposition that it is raining outside. This will be true (P) if it is raining outside, and false otherwise (¬P).\n",
        "\n",
        "\n",
        "* We then define truth-functional operators, beginning with **negation**. ¬P represents the negation of P, which can be thought of as the denial of P. In the example above, ¬P expresses that it is not raining outside, or by a more standard reading: \"It is not the case that it is raining outside.\" When P is true, ¬P is false; and when P is false, ¬P is true. As a result, ¬ ¬P always has the same truth-value as P.\n",
        "\n",
        "* **Conjunction** is a truth-functional connective which forms a proposition out of two simpler propositions, for example, P and Q. The conjunction of P and Q is written P ∧ Q, and expresses that each are true. We read P ∧ Q as \"P and Q\". For any two propositions, there are four possible assignments of truth values:\n",
        "\n",
        "        P is true and Q is true\n",
        "        P is true and Q is false\n",
        "        P is false and Q is true\n",
        "        P is false and Q is false\n",
        "\n",
        "\n",
        "* **Disjunction** resembles conjunction in that it forms a proposition out of two simpler propositions. We write it P ∨ Q, and it is read \"P or Q\". It expresses that either P or Q is true. Thus, in the cases listed above, the disjunction of P with Q is true in all cases—except case 4. Using the example above, the disjunction expresses that it is either raining outside, or there is a cold front over Kansas. (Note, this use of disjunction is supposed to resemble the use of the English word \"or\". However, it is most like the English inclusive \"or\", which can be used to express the truth of at least one of two propositions. It is not like the English exclusive \"or\", which expresses the truth of exactly one of two propositions. In other words, the exclusive \"or\" is false when both P and Q are true (case 1), and similarly is false when both P and Q are false (case 4). An example of the exclusive or is: You may have a bagel or a pastry, but not both. Often in natural language, given the appropriate context, the addendum \"but not both\" is omitted—but implied. In mathematics, however, \"or\" is always inclusive or; if exclusive or is meant it will be specified, possibly by \"xor\".)\n",
        "\n",
        "* **Conditional** also joins two simpler propositions, and we write P → Q, which is read \"if P then Q\". The proposition to the left of the arrow is called the antecedent, and the proposition to the right is called the consequent. (There is no such designation for conjunction or disjunction, since they are commutative operations.) It expresses that Q is true whenever P is true. Thus P → Q is true in every case above except case 2, because this is the only case when P is true but Q is not. Using the example, if P then Q expresses that if it is raining outside, then there is a cold-front over Kansas. The material conditional is often confused with physical causation. The material conditional, however, only relates two propositions by their truth-values—which is not the relation of cause and effect. It is contentious in the literature whether the material implication represents logical causation.\n",
        "    \n",
        "    \n",
        "* **Biconditional** joins two simpler propositions, and we write P ↔ Q, which is read \"P if and only if Q\". It expresses that P and Q have the same truth-value, and in cases 1 and 4. 'P is true if and only if Q' is true, and is false otherwise.\n",
        "\n",
        "The propositional calculus then defines an argument to be a list of propositions. A valid argument is a list of propositions, the last of which follows from—or is implied by—the rest. All other arguments are invalid. The simplest valid argument is **modus ponens**, one instance of which is the following list of propositions:\n",
        "\n",
        "    1. P → Q \n",
        "    2. P \n",
        "    ________\n",
        "       ∴ Q\n",
        "\n",
        "This is a list of three propositions, each line is a proposition, and the last follows from the rest. The first two lines are called premises, and the last line the conclusion. We say that any proposition C follows from any set of propositions ( P 1 , . . . , P n ) (P_{1},...,P_{n}), if C must be true whenever every member of the set ( P 1 , . . . , P n ) (P_{1},...,P_{n}) is true. In the argument above, for any P and Q, whenever P → Q and P are true, necessarily Q is true. Notice that, when P is true, we cannot consider cases 3 and 4 (from the truth table). When P → Q is true, we cannot consider case 2. This leaves only case 1, in which Q is also true. Thus Q is implied by the premises.\n",
        "\n",
        "This generalizes schematically. Thus, where φ and ψ may be any propositions at all,\n",
        "\n",
        "    1. φ → ψ \n",
        "    2. φ \n",
        "    _________\n",
        "        ∴ ψ "
      ],
      "metadata": {
        "id": "ZxWI50P2pRAV"
      }
    },
    {
      "cell_type": "markdown",
      "source": [
        "## **NATURAL DEDUCTION SYSTEM**\n",
        "\n",
        "Our propositional calculus,called Natural Deduction System,  has eleven inference rules. These rules allow us to derive other true formulas given a set of formulas that are assumed to be true:\n",
        "\n",
        "\n",
        "\n",
        "* **Negation introduction:** from ( p → q ) and ( p → ¬ q ) , infer ¬ p. \n",
        "    \n",
        "* **Negation elimination:** from ¬ p , infer ( p → r ). \n",
        "    \n",
        "* **Double negation elimination:** from ¬ ¬ p, infer p.\n",
        "    \n",
        "* **Conjunction introduction:** from p and q, infer ( p ∧ q ) .\n",
        "    \n",
        "* **Conjunction elimination:** from ( p ∧ q ), infer p. from ( p ∧ q ) , infer q.\n",
        "    \n",
        "* **Disjunction introduction:** from p, infer ( p ∨ q ) . from q, infer ( p ∨ q ) .\n",
        "   \n",
        "* **Disjunction elimination:** from ( p ∨ q ) and ( p → r )  and ( q → r ) , infer r.\n",
        "    \n",
        "* **Biconditional introduction:** from ( p → q )  and ( q → p ) , infer ( p ↔ q ).\n",
        "    \n",
        "* **Biconditional elimination:** from ( p ↔ q ) , infer ( p → q ) . from ( p ↔ q ) , infer ( q → p ) .\n",
        "    \n",
        "* **Modus ponens (conditional elimination):** from and ( p → q ) , infer q.\n",
        "    \n",
        "* **Conditional proof (conditional introduction):** from [accepting p allows a proof of q], infer ( p → q ) .\n",
        "    \n",
        "\n"
      ],
      "metadata": {
        "id": "PrRN5MXDwWKr"
      }
    },
    {
      "cell_type": "markdown",
      "source": [
        "### **EXERCISE 1** \n",
        "\n",
        "Using the module FLLOAT, verify the **Negation introduction**: from ( p → q ) and ( p → ¬ q ) , infer ¬ p. "
      ],
      "metadata": {
        "id": "3ypLUjyP2u9Q"
      }
    },
    {
      "cell_type": "code",
      "source": [
        "!pip install flloat"
      ],
      "metadata": {
        "id": "Qu_lkt5DKjqG",
        "colab": {
          "base_uri": "https://localhost:8080/"
        },
        "outputId": "07e4fb3c-6a92-482e-bff3-24ff47d81590"
      },
      "execution_count": 4,
      "outputs": [
        {
          "output_type": "stream",
          "name": "stdout",
          "text": [
            "Looking in indexes: https://pypi.org/simple, https://us-python.pkg.dev/colab-wheels/public/simple/\n",
            "Collecting flloat\n",
            "  Downloading flloat-0.3.0-py2.py3-none-any.whl (39 kB)\n",
            "Collecting pythomata>=0.3.2\n",
            "  Downloading pythomata-0.3.2-py2.py3-none-any.whl (23 kB)\n",
            "Requirement already satisfied: sympy in /usr/local/lib/python3.8/dist-packages (from flloat) (1.7.1)\n",
            "Collecting lark-parser\n",
            "  Downloading lark_parser-0.12.0-py2.py3-none-any.whl (103 kB)\n",
            "\u001b[2K     \u001b[90m━━━━━━━━━━━━━━━━━━━━━━━━━━━━━━━━━━━━━━━\u001b[0m \u001b[32m103.5/103.5 KB\u001b[0m \u001b[31m4.5 MB/s\u001b[0m eta \u001b[36m0:00:00\u001b[0m\n",
            "\u001b[?25hRequirement already satisfied: graphviz in /usr/local/lib/python3.8/dist-packages (from pythomata>=0.3.2->flloat) (0.10.1)\n",
            "Requirement already satisfied: mpmath>=0.19 in /usr/local/lib/python3.8/dist-packages (from sympy->flloat) (1.2.1)\n",
            "Installing collected packages: lark-parser, pythomata, flloat\n",
            "Successfully installed flloat-0.3.0 lark-parser-0.12.0 pythomata-0.3.2\n"
          ]
        }
      ]
    },
    {
      "cell_type": "code",
      "source": [
        "from flloat.parser.ltlf import LTLfParser\n",
        "\n",
        "# parse the formula\n",
        "parser = LTLfParser()\n",
        "formula = \"F (((p->q) & (p->!q))->!p)\"\n",
        "parsed_formula = parser(formula)\n",
        "dfa = parsed_formula.to_automaton()\n",
        "graph = dfa.to_graphviz()\n",
        "graph"
      ],
      "metadata": {
        "id": "TfhTh1dvL3jC",
        "colab": {
          "base_uri": "https://localhost:8080/",
          "height": 304
        },
        "outputId": "96b0c342-d902-4dde-fb82-11eda400d4c0"
      },
      "execution_count": 5,
      "outputs": [
        {
          "output_type": "execute_result",
          "data": {
            "text/plain": [
              "<graphviz.dot.Digraph at 0x7f755ff285b0>"
            ],
            "image/svg+xml": "<?xml version=\"1.0\" encoding=\"UTF-8\" standalone=\"no\"?>\n<!DOCTYPE svg PUBLIC \"-//W3C//DTD SVG 1.1//EN\"\n \"http://www.w3.org/Graphics/SVG/1.1/DTD/svg11.dtd\">\n<!-- Generated by graphviz version 2.43.0 (0)\n -->\n<!-- Title: %3 Pages: 1 -->\n<svg width=\"101pt\" height=\"212pt\"\n viewBox=\"0.00 0.00 101.00 212.00\" xmlns=\"http://www.w3.org/2000/svg\" xmlns:xlink=\"http://www.w3.org/1999/xlink\">\n<g id=\"graph0\" class=\"graph\" transform=\"scale(1 1) rotate(0) translate(4 208)\">\n<title>%3</title>\n<polygon fill=\"white\" stroke=\"transparent\" points=\"-4,4 -4,-208 97,-208 97,4 -4,4\"/>\n<!-- fake -->\n<g id=\"node1\" class=\"node\">\n<title>fake</title>\n</g>\n<!-- 0 -->\n<g id=\"node2\" class=\"node\">\n<title>0</title>\n<ellipse fill=\"none\" stroke=\"black\" cx=\"27\" cy=\"-113\" rx=\"27\" ry=\"18\"/>\n<text text-anchor=\"middle\" x=\"27\" y=\"-109.3\" font-family=\"Times,serif\" font-size=\"14.00\">0</text>\n</g>\n<!-- fake&#45;&gt;0 -->\n<g id=\"edge1\" class=\"edge\">\n<title>fake&#45;&gt;0</title>\n<path fill=\"none\" stroke=\"black\" stroke-width=\"2\" d=\"M27,-167.81C27,-159.79 27,-150.05 27,-141.07\"/>\n<polygon fill=\"black\" stroke=\"black\" stroke-width=\"2\" points=\"30.5,-141.03 27,-131.03 23.5,-141.03 30.5,-141.03\"/>\n</g>\n<!-- 1 -->\n<g id=\"node3\" class=\"node\">\n<title>1</title>\n<ellipse fill=\"none\" stroke=\"black\" cx=\"27\" cy=\"-22\" rx=\"18\" ry=\"18\"/>\n<ellipse fill=\"none\" stroke=\"black\" cx=\"27\" cy=\"-22\" rx=\"22\" ry=\"22\"/>\n<text text-anchor=\"middle\" x=\"27\" y=\"-18.3\" font-family=\"Times,serif\" font-size=\"14.00\">1</text>\n</g>\n<!-- 0&#45;&gt;1 -->\n<g id=\"edge3\" class=\"edge\">\n<title>0&#45;&gt;1</title>\n<path fill=\"none\" stroke=\"black\" d=\"M27,-94.84C27,-83.44 27,-68.13 27,-54.58\"/>\n<polygon fill=\"black\" stroke=\"black\" points=\"30.5,-54.19 27,-44.19 23.5,-54.19 30.5,-54.19\"/>\n<text text-anchor=\"middle\" x=\"40\" y=\"-65.8\" font-family=\"Times,serif\" font-size=\"14.00\">True</text>\n</g>\n<!-- 1&#45;&gt;1 -->\n<g id=\"edge2\" class=\"edge\">\n<title>1&#45;&gt;1</title>\n<path fill=\"none\" stroke=\"black\" d=\"M47.58,-30.37C57.84,-31.53 67,-28.74 67,-22 67,-17.68 63.24,-14.99 57.84,-13.91\"/>\n<polygon fill=\"black\" stroke=\"black\" points=\"57.67,-10.41 47.58,-13.63 57.48,-17.4 57.67,-10.41\"/>\n<text text-anchor=\"middle\" x=\"80\" y=\"-18.3\" font-family=\"Times,serif\" font-size=\"14.00\">True</text>\n</g>\n</g>\n</svg>\n"
          },
          "metadata": {},
          "execution_count": 5
        }
      ]
    },
    {
      "cell_type": "code",
      "source": [
        "from pickle import TRUE\n",
        "test = [{\"p\": False, \"q\": False},\n",
        "        {\"p\": False, \"q\": True},\n",
        "        {\"p\": True, \"q\": False},\n",
        "        {\"p\": True, \"q\": True}]\n",
        "assert dfa.accepts(test)"
      ],
      "metadata": {
        "id": "K86-bbKyPY6W"
      },
      "execution_count": null,
      "outputs": []
    },
    {
      "cell_type": "markdown",
      "source": [
        "### **EXERCISE 2.** \n",
        "\n",
        "Using the module FLLOAT, verify the **Negation elimination:** from ¬ p , infer ( p → r ). "
      ],
      "metadata": {
        "id": "eoEHzUAwPu5F"
      }
    },
    {
      "cell_type": "code",
      "source": [
        "#TYPE YOUR CODE HERE\n",
        "from flloat.parser.ltlf import LTLfParser\n",
        "\n",
        "# parse the formula\n",
        "parser = LTLfParser()\n",
        "formula = \"F ((!p ->(p -> r)))\"\n",
        "parsed_formula = parser(formula)\n",
        "dfa = parsed_formula.to_automaton()\n",
        "graph = dfa.to_graphviz()\n",
        "graph"
      ],
      "metadata": {
        "id": "HOQgAqsOP7ak",
        "colab": {
          "base_uri": "https://localhost:8080/",
          "height": 304
        },
        "outputId": "541a0913-94a9-4dd1-8949-ab852c2d91d3"
      },
      "execution_count": 7,
      "outputs": [
        {
          "output_type": "execute_result",
          "data": {
            "text/plain": [
              "<graphviz.dot.Digraph at 0x7f755fd5e280>"
            ],
            "image/svg+xml": "<?xml version=\"1.0\" encoding=\"UTF-8\" standalone=\"no\"?>\n<!DOCTYPE svg PUBLIC \"-//W3C//DTD SVG 1.1//EN\"\n \"http://www.w3.org/Graphics/SVG/1.1/DTD/svg11.dtd\">\n<!-- Generated by graphviz version 2.43.0 (0)\n -->\n<!-- Title: %3 Pages: 1 -->\n<svg width=\"101pt\" height=\"212pt\"\n viewBox=\"0.00 0.00 101.00 212.00\" xmlns=\"http://www.w3.org/2000/svg\" xmlns:xlink=\"http://www.w3.org/1999/xlink\">\n<g id=\"graph0\" class=\"graph\" transform=\"scale(1 1) rotate(0) translate(4 208)\">\n<title>%3</title>\n<polygon fill=\"white\" stroke=\"transparent\" points=\"-4,4 -4,-208 97,-208 97,4 -4,4\"/>\n<!-- fake -->\n<g id=\"node1\" class=\"node\">\n<title>fake</title>\n</g>\n<!-- 0 -->\n<g id=\"node2\" class=\"node\">\n<title>0</title>\n<ellipse fill=\"none\" stroke=\"black\" cx=\"27\" cy=\"-113\" rx=\"27\" ry=\"18\"/>\n<text text-anchor=\"middle\" x=\"27\" y=\"-109.3\" font-family=\"Times,serif\" font-size=\"14.00\">0</text>\n</g>\n<!-- fake&#45;&gt;0 -->\n<g id=\"edge1\" class=\"edge\">\n<title>fake&#45;&gt;0</title>\n<path fill=\"none\" stroke=\"black\" stroke-width=\"2\" d=\"M27,-167.81C27,-159.79 27,-150.05 27,-141.07\"/>\n<polygon fill=\"black\" stroke=\"black\" stroke-width=\"2\" points=\"30.5,-141.03 27,-131.03 23.5,-141.03 30.5,-141.03\"/>\n</g>\n<!-- 1 -->\n<g id=\"node3\" class=\"node\">\n<title>1</title>\n<ellipse fill=\"none\" stroke=\"black\" cx=\"27\" cy=\"-22\" rx=\"18\" ry=\"18\"/>\n<ellipse fill=\"none\" stroke=\"black\" cx=\"27\" cy=\"-22\" rx=\"22\" ry=\"22\"/>\n<text text-anchor=\"middle\" x=\"27\" y=\"-18.3\" font-family=\"Times,serif\" font-size=\"14.00\">1</text>\n</g>\n<!-- 0&#45;&gt;1 -->\n<g id=\"edge3\" class=\"edge\">\n<title>0&#45;&gt;1</title>\n<path fill=\"none\" stroke=\"black\" d=\"M27,-94.84C27,-83.44 27,-68.13 27,-54.58\"/>\n<polygon fill=\"black\" stroke=\"black\" points=\"30.5,-54.19 27,-44.19 23.5,-54.19 30.5,-54.19\"/>\n<text text-anchor=\"middle\" x=\"40\" y=\"-65.8\" font-family=\"Times,serif\" font-size=\"14.00\">True</text>\n</g>\n<!-- 1&#45;&gt;1 -->\n<g id=\"edge2\" class=\"edge\">\n<title>1&#45;&gt;1</title>\n<path fill=\"none\" stroke=\"black\" d=\"M47.58,-30.37C57.84,-31.53 67,-28.74 67,-22 67,-17.68 63.24,-14.99 57.84,-13.91\"/>\n<polygon fill=\"black\" stroke=\"black\" points=\"57.67,-10.41 47.58,-13.63 57.48,-17.4 57.67,-10.41\"/>\n<text text-anchor=\"middle\" x=\"80\" y=\"-18.3\" font-family=\"Times,serif\" font-size=\"14.00\">True</text>\n</g>\n</g>\n</svg>\n"
          },
          "metadata": {},
          "execution_count": 7
        }
      ]
    },
    {
      "cell_type": "markdown",
      "source": [
        "### **EXERCISE 3.** \n",
        "\n",
        "Using the module FLLOAT, verify the **Double negation elimination:** from ¬ ¬ p, infer p."
      ],
      "metadata": {
        "id": "Fj8GHvG0u9jW"
      }
    },
    {
      "cell_type": "code",
      "source": [
        "#TYPE YOUR CODE HERE\n",
        "from flloat.parser.ltlf import LTLfParser\n",
        "\n",
        "# parse the formula\n",
        "parser = LTLfParser()\n",
        "formula = \"F (p -> p)\"\n",
        "parsed_formula = parser(formula)\n",
        "dfa = parsed_formula.to_automaton()\n",
        "graph = dfa.to_graphviz()\n",
        "graph"
      ],
      "metadata": {
        "id": "jbhgFTwru8zp",
        "colab": {
          "base_uri": "https://localhost:8080/",
          "height": 304
        },
        "outputId": "4ccfcfa9-7ef8-4f8d-e74b-7e24f45923c6"
      },
      "execution_count": 8,
      "outputs": [
        {
          "output_type": "execute_result",
          "data": {
            "text/plain": [
              "<graphviz.dot.Digraph at 0x7f755ffaf2e0>"
            ],
            "image/svg+xml": "<?xml version=\"1.0\" encoding=\"UTF-8\" standalone=\"no\"?>\n<!DOCTYPE svg PUBLIC \"-//W3C//DTD SVG 1.1//EN\"\n \"http://www.w3.org/Graphics/SVG/1.1/DTD/svg11.dtd\">\n<!-- Generated by graphviz version 2.43.0 (0)\n -->\n<!-- Title: %3 Pages: 1 -->\n<svg width=\"101pt\" height=\"212pt\"\n viewBox=\"0.00 0.00 101.00 212.00\" xmlns=\"http://www.w3.org/2000/svg\" xmlns:xlink=\"http://www.w3.org/1999/xlink\">\n<g id=\"graph0\" class=\"graph\" transform=\"scale(1 1) rotate(0) translate(4 208)\">\n<title>%3</title>\n<polygon fill=\"white\" stroke=\"transparent\" points=\"-4,4 -4,-208 97,-208 97,4 -4,4\"/>\n<!-- fake -->\n<g id=\"node1\" class=\"node\">\n<title>fake</title>\n</g>\n<!-- 0 -->\n<g id=\"node2\" class=\"node\">\n<title>0</title>\n<ellipse fill=\"none\" stroke=\"black\" cx=\"27\" cy=\"-113\" rx=\"27\" ry=\"18\"/>\n<text text-anchor=\"middle\" x=\"27\" y=\"-109.3\" font-family=\"Times,serif\" font-size=\"14.00\">0</text>\n</g>\n<!-- fake&#45;&gt;0 -->\n<g id=\"edge1\" class=\"edge\">\n<title>fake&#45;&gt;0</title>\n<path fill=\"none\" stroke=\"black\" stroke-width=\"2\" d=\"M27,-167.81C27,-159.79 27,-150.05 27,-141.07\"/>\n<polygon fill=\"black\" stroke=\"black\" stroke-width=\"2\" points=\"30.5,-141.03 27,-131.03 23.5,-141.03 30.5,-141.03\"/>\n</g>\n<!-- 1 -->\n<g id=\"node3\" class=\"node\">\n<title>1</title>\n<ellipse fill=\"none\" stroke=\"black\" cx=\"27\" cy=\"-22\" rx=\"18\" ry=\"18\"/>\n<ellipse fill=\"none\" stroke=\"black\" cx=\"27\" cy=\"-22\" rx=\"22\" ry=\"22\"/>\n<text text-anchor=\"middle\" x=\"27\" y=\"-18.3\" font-family=\"Times,serif\" font-size=\"14.00\">1</text>\n</g>\n<!-- 0&#45;&gt;1 -->\n<g id=\"edge3\" class=\"edge\">\n<title>0&#45;&gt;1</title>\n<path fill=\"none\" stroke=\"black\" d=\"M27,-94.84C27,-83.44 27,-68.13 27,-54.58\"/>\n<polygon fill=\"black\" stroke=\"black\" points=\"30.5,-54.19 27,-44.19 23.5,-54.19 30.5,-54.19\"/>\n<text text-anchor=\"middle\" x=\"40\" y=\"-65.8\" font-family=\"Times,serif\" font-size=\"14.00\">True</text>\n</g>\n<!-- 1&#45;&gt;1 -->\n<g id=\"edge2\" class=\"edge\">\n<title>1&#45;&gt;1</title>\n<path fill=\"none\" stroke=\"black\" d=\"M47.58,-30.37C57.84,-31.53 67,-28.74 67,-22 67,-17.68 63.24,-14.99 57.84,-13.91\"/>\n<polygon fill=\"black\" stroke=\"black\" points=\"57.67,-10.41 47.58,-13.63 57.48,-17.4 57.67,-10.41\"/>\n<text text-anchor=\"middle\" x=\"80\" y=\"-18.3\" font-family=\"Times,serif\" font-size=\"14.00\">True</text>\n</g>\n</g>\n</svg>\n"
          },
          "metadata": {},
          "execution_count": 8
        }
      ]
    },
    {
      "cell_type": "markdown",
      "source": [
        "### **EXERCISE 4.** \n",
        "\n",
        "Using the module FLLOAT, verify the **Conjunction introduction:** from p and q, infer ( p ∧ q )."
      ],
      "metadata": {
        "id": "EzfMlchAvwUu"
      }
    },
    {
      "cell_type": "code",
      "source": [
        "#TYPE YOUR CODE HERE\n",
        "from flloat.parser.ltlf import LTLfParser\n",
        "\n",
        "# parse the formula\n",
        "parser = LTLfParser()\n",
        "formula = \"F ((p & q) -> (p & q))\"\n",
        "parsed_formula = parser(formula)\n",
        "dfa = parsed_formula.to_automaton()\n",
        "graph = dfa.to_graphviz()\n",
        "graph"
      ],
      "metadata": {
        "id": "iQsBuzPKv_CR",
        "colab": {
          "base_uri": "https://localhost:8080/",
          "height": 304
        },
        "outputId": "79291423-5e7c-48e4-bd16-a350abb89d50"
      },
      "execution_count": 9,
      "outputs": [
        {
          "output_type": "execute_result",
          "data": {
            "text/plain": [
              "<graphviz.dot.Digraph at 0x7f755fd9e0d0>"
            ],
            "image/svg+xml": "<?xml version=\"1.0\" encoding=\"UTF-8\" standalone=\"no\"?>\n<!DOCTYPE svg PUBLIC \"-//W3C//DTD SVG 1.1//EN\"\n \"http://www.w3.org/Graphics/SVG/1.1/DTD/svg11.dtd\">\n<!-- Generated by graphviz version 2.43.0 (0)\n -->\n<!-- Title: %3 Pages: 1 -->\n<svg width=\"101pt\" height=\"212pt\"\n viewBox=\"0.00 0.00 101.00 212.00\" xmlns=\"http://www.w3.org/2000/svg\" xmlns:xlink=\"http://www.w3.org/1999/xlink\">\n<g id=\"graph0\" class=\"graph\" transform=\"scale(1 1) rotate(0) translate(4 208)\">\n<title>%3</title>\n<polygon fill=\"white\" stroke=\"transparent\" points=\"-4,4 -4,-208 97,-208 97,4 -4,4\"/>\n<!-- fake -->\n<g id=\"node1\" class=\"node\">\n<title>fake</title>\n</g>\n<!-- 0 -->\n<g id=\"node2\" class=\"node\">\n<title>0</title>\n<ellipse fill=\"none\" stroke=\"black\" cx=\"27\" cy=\"-113\" rx=\"27\" ry=\"18\"/>\n<text text-anchor=\"middle\" x=\"27\" y=\"-109.3\" font-family=\"Times,serif\" font-size=\"14.00\">0</text>\n</g>\n<!-- fake&#45;&gt;0 -->\n<g id=\"edge1\" class=\"edge\">\n<title>fake&#45;&gt;0</title>\n<path fill=\"none\" stroke=\"black\" stroke-width=\"2\" d=\"M27,-167.81C27,-159.79 27,-150.05 27,-141.07\"/>\n<polygon fill=\"black\" stroke=\"black\" stroke-width=\"2\" points=\"30.5,-141.03 27,-131.03 23.5,-141.03 30.5,-141.03\"/>\n</g>\n<!-- 1 -->\n<g id=\"node3\" class=\"node\">\n<title>1</title>\n<ellipse fill=\"none\" stroke=\"black\" cx=\"27\" cy=\"-22\" rx=\"18\" ry=\"18\"/>\n<ellipse fill=\"none\" stroke=\"black\" cx=\"27\" cy=\"-22\" rx=\"22\" ry=\"22\"/>\n<text text-anchor=\"middle\" x=\"27\" y=\"-18.3\" font-family=\"Times,serif\" font-size=\"14.00\">1</text>\n</g>\n<!-- 0&#45;&gt;1 -->\n<g id=\"edge3\" class=\"edge\">\n<title>0&#45;&gt;1</title>\n<path fill=\"none\" stroke=\"black\" d=\"M27,-94.84C27,-83.44 27,-68.13 27,-54.58\"/>\n<polygon fill=\"black\" stroke=\"black\" points=\"30.5,-54.19 27,-44.19 23.5,-54.19 30.5,-54.19\"/>\n<text text-anchor=\"middle\" x=\"40\" y=\"-65.8\" font-family=\"Times,serif\" font-size=\"14.00\">True</text>\n</g>\n<!-- 1&#45;&gt;1 -->\n<g id=\"edge2\" class=\"edge\">\n<title>1&#45;&gt;1</title>\n<path fill=\"none\" stroke=\"black\" d=\"M47.58,-30.37C57.84,-31.53 67,-28.74 67,-22 67,-17.68 63.24,-14.99 57.84,-13.91\"/>\n<polygon fill=\"black\" stroke=\"black\" points=\"57.67,-10.41 47.58,-13.63 57.48,-17.4 57.67,-10.41\"/>\n<text text-anchor=\"middle\" x=\"80\" y=\"-18.3\" font-family=\"Times,serif\" font-size=\"14.00\">True</text>\n</g>\n</g>\n</svg>\n"
          },
          "metadata": {},
          "execution_count": 9
        }
      ]
    },
    {
      "cell_type": "markdown",
      "source": [
        "### **HOMEWORK** \n",
        "\n",
        "Using the module FLLOAT, verify all the remaining rules:\n",
        "\n",
        "* **Conjunction elimination:** from ( p ∧ q ), infer p. from ( p ∧ q ) , infer q.\n",
        "    \n",
        "* **Disjunction introduction:** from p, infer ( p ∨ q ) . from q, infer ( p ∨ q ) .\n",
        "   \n",
        "* **Disjunction elimination:** from ( p ∨ q ) and ( p → r )  and ( q → r ) , infer r.\n",
        "    \n",
        "* **Biconditional introduction:** from ( p → q )  and ( q → p ) , infer ( p ↔ q ).\n",
        "    \n",
        "* **Biconditional elimination:** from ( p ↔ q ) , infer ( p → q ) . from ( p ↔ q ) , infer ( q → p ) .\n",
        "    \n",
        "* **Modus ponens (conditional elimination):** from and ( p → q ) , infer q.\n",
        "    \n",
        "* **Conditional proof (conditional introduction):** from [accepting p allows a proof of q], infer ( p → q ) ."
      ],
      "metadata": {
        "id": "keKsSkvVT5Xn"
      }
    },
    {
      "cell_type": "code",
      "source": [
        "#Conjunction elimination: from ( p ∧ q ), infer p. from ( p ∧ q ) , infer q.\n",
        "#TYPE YOUR IMPLEMENTATION FOR CONJUCTION ELIMINATION HERE\n",
        "from flloat.parser.ltlf import LTLfParser\n",
        "\n",
        "# parse the formula\n",
        "parser = LTLfParser()\n",
        "formula = \"F ((p & q) -> p)\"\n",
        "parsed_formula = parser(formula)\n",
        "dfa = parsed_formula.to_automaton()\n",
        "graph = dfa.to_graphviz()\n",
        "graph"
      ],
      "metadata": {
        "id": "BsBI3bZ9Usfn",
        "colab": {
          "base_uri": "https://localhost:8080/",
          "height": 304
        },
        "outputId": "c4ccff39-e6ea-440b-b163-fb4a8446363f"
      },
      "execution_count": null,
      "outputs": [
        {
          "output_type": "execute_result",
          "data": {
            "text/plain": [
              "<graphviz.dot.Digraph at 0x7f31a3fd0dc0>"
            ],
            "image/svg+xml": "<?xml version=\"1.0\" encoding=\"UTF-8\" standalone=\"no\"?>\n<!DOCTYPE svg PUBLIC \"-//W3C//DTD SVG 1.1//EN\"\n \"http://www.w3.org/Graphics/SVG/1.1/DTD/svg11.dtd\">\n<!-- Generated by graphviz version 2.43.0 (0)\n -->\n<!-- Title: %3 Pages: 1 -->\n<svg width=\"101pt\" height=\"212pt\"\n viewBox=\"0.00 0.00 101.00 212.00\" xmlns=\"http://www.w3.org/2000/svg\" xmlns:xlink=\"http://www.w3.org/1999/xlink\">\n<g id=\"graph0\" class=\"graph\" transform=\"scale(1 1) rotate(0) translate(4 208)\">\n<title>%3</title>\n<polygon fill=\"white\" stroke=\"transparent\" points=\"-4,4 -4,-208 97,-208 97,4 -4,4\"/>\n<!-- fake -->\n<g id=\"node1\" class=\"node\">\n<title>fake</title>\n</g>\n<!-- 0 -->\n<g id=\"node2\" class=\"node\">\n<title>0</title>\n<ellipse fill=\"none\" stroke=\"black\" cx=\"27\" cy=\"-113\" rx=\"27\" ry=\"18\"/>\n<text text-anchor=\"middle\" x=\"27\" y=\"-109.3\" font-family=\"Times,serif\" font-size=\"14.00\">0</text>\n</g>\n<!-- fake&#45;&gt;0 -->\n<g id=\"edge1\" class=\"edge\">\n<title>fake&#45;&gt;0</title>\n<path fill=\"none\" stroke=\"black\" stroke-width=\"2\" d=\"M27,-167.81C27,-159.79 27,-150.05 27,-141.07\"/>\n<polygon fill=\"black\" stroke=\"black\" stroke-width=\"2\" points=\"30.5,-141.03 27,-131.03 23.5,-141.03 30.5,-141.03\"/>\n</g>\n<!-- 1 -->\n<g id=\"node3\" class=\"node\">\n<title>1</title>\n<ellipse fill=\"none\" stroke=\"black\" cx=\"27\" cy=\"-22\" rx=\"18\" ry=\"18\"/>\n<ellipse fill=\"none\" stroke=\"black\" cx=\"27\" cy=\"-22\" rx=\"22\" ry=\"22\"/>\n<text text-anchor=\"middle\" x=\"27\" y=\"-18.3\" font-family=\"Times,serif\" font-size=\"14.00\">1</text>\n</g>\n<!-- 0&#45;&gt;1 -->\n<g id=\"edge3\" class=\"edge\">\n<title>0&#45;&gt;1</title>\n<path fill=\"none\" stroke=\"black\" d=\"M27,-94.84C27,-83.44 27,-68.13 27,-54.58\"/>\n<polygon fill=\"black\" stroke=\"black\" points=\"30.5,-54.19 27,-44.19 23.5,-54.19 30.5,-54.19\"/>\n<text text-anchor=\"middle\" x=\"40\" y=\"-65.8\" font-family=\"Times,serif\" font-size=\"14.00\">True</text>\n</g>\n<!-- 1&#45;&gt;1 -->\n<g id=\"edge2\" class=\"edge\">\n<title>1&#45;&gt;1</title>\n<path fill=\"none\" stroke=\"black\" d=\"M47.58,-30.37C57.84,-31.53 67,-28.74 67,-22 67,-17.68 63.24,-14.99 57.84,-13.91\"/>\n<polygon fill=\"black\" stroke=\"black\" points=\"57.67,-10.41 47.58,-13.63 57.48,-17.4 57.67,-10.41\"/>\n<text text-anchor=\"middle\" x=\"80\" y=\"-18.3\" font-family=\"Times,serif\" font-size=\"14.00\">True</text>\n</g>\n</g>\n</svg>\n"
          },
          "metadata": {},
          "execution_count": 6
        }
      ]
    },
    {
      "cell_type": "code",
      "source": [
        "#Conjunction elimination: from ( p ∧ q ), infer p. from ( p ∧ q ) , infer q.\n",
        "#TYPE YOUR IMPLEMENTATION FOR CONJUCTION ELIMINATION HERE\n",
        "from flloat.parser.ltlf import LTLfParser\n",
        "\n",
        "# parse the formula\n",
        "parser = LTLfParser()\n",
        "formula = \"F ((p & q) -> q)\"\n",
        "parsed_formula = parser(formula)\n",
        "dfa = parsed_formula.to_automaton()\n",
        "graph = dfa.to_graphviz()\n",
        "graph"
      ],
      "metadata": {
        "colab": {
          "base_uri": "https://localhost:8080/",
          "height": 304
        },
        "id": "xkHqpac-Xgys",
        "outputId": "248d05bb-aa5f-4d9a-f581-453390bd5fa1"
      },
      "execution_count": null,
      "outputs": [
        {
          "output_type": "execute_result",
          "data": {
            "text/plain": [
              "<graphviz.dot.Digraph at 0x7f31bc2ef0a0>"
            ],
            "image/svg+xml": "<?xml version=\"1.0\" encoding=\"UTF-8\" standalone=\"no\"?>\n<!DOCTYPE svg PUBLIC \"-//W3C//DTD SVG 1.1//EN\"\n \"http://www.w3.org/Graphics/SVG/1.1/DTD/svg11.dtd\">\n<!-- Generated by graphviz version 2.43.0 (0)\n -->\n<!-- Title: %3 Pages: 1 -->\n<svg width=\"101pt\" height=\"212pt\"\n viewBox=\"0.00 0.00 101.00 212.00\" xmlns=\"http://www.w3.org/2000/svg\" xmlns:xlink=\"http://www.w3.org/1999/xlink\">\n<g id=\"graph0\" class=\"graph\" transform=\"scale(1 1) rotate(0) translate(4 208)\">\n<title>%3</title>\n<polygon fill=\"white\" stroke=\"transparent\" points=\"-4,4 -4,-208 97,-208 97,4 -4,4\"/>\n<!-- fake -->\n<g id=\"node1\" class=\"node\">\n<title>fake</title>\n</g>\n<!-- 0 -->\n<g id=\"node2\" class=\"node\">\n<title>0</title>\n<ellipse fill=\"none\" stroke=\"black\" cx=\"27\" cy=\"-113\" rx=\"27\" ry=\"18\"/>\n<text text-anchor=\"middle\" x=\"27\" y=\"-109.3\" font-family=\"Times,serif\" font-size=\"14.00\">0</text>\n</g>\n<!-- fake&#45;&gt;0 -->\n<g id=\"edge1\" class=\"edge\">\n<title>fake&#45;&gt;0</title>\n<path fill=\"none\" stroke=\"black\" stroke-width=\"2\" d=\"M27,-167.81C27,-159.79 27,-150.05 27,-141.07\"/>\n<polygon fill=\"black\" stroke=\"black\" stroke-width=\"2\" points=\"30.5,-141.03 27,-131.03 23.5,-141.03 30.5,-141.03\"/>\n</g>\n<!-- 1 -->\n<g id=\"node3\" class=\"node\">\n<title>1</title>\n<ellipse fill=\"none\" stroke=\"black\" cx=\"27\" cy=\"-22\" rx=\"18\" ry=\"18\"/>\n<ellipse fill=\"none\" stroke=\"black\" cx=\"27\" cy=\"-22\" rx=\"22\" ry=\"22\"/>\n<text text-anchor=\"middle\" x=\"27\" y=\"-18.3\" font-family=\"Times,serif\" font-size=\"14.00\">1</text>\n</g>\n<!-- 0&#45;&gt;1 -->\n<g id=\"edge3\" class=\"edge\">\n<title>0&#45;&gt;1</title>\n<path fill=\"none\" stroke=\"black\" d=\"M27,-94.84C27,-83.44 27,-68.13 27,-54.58\"/>\n<polygon fill=\"black\" stroke=\"black\" points=\"30.5,-54.19 27,-44.19 23.5,-54.19 30.5,-54.19\"/>\n<text text-anchor=\"middle\" x=\"40\" y=\"-65.8\" font-family=\"Times,serif\" font-size=\"14.00\">True</text>\n</g>\n<!-- 1&#45;&gt;1 -->\n<g id=\"edge2\" class=\"edge\">\n<title>1&#45;&gt;1</title>\n<path fill=\"none\" stroke=\"black\" d=\"M47.58,-30.37C57.84,-31.53 67,-28.74 67,-22 67,-17.68 63.24,-14.99 57.84,-13.91\"/>\n<polygon fill=\"black\" stroke=\"black\" points=\"57.67,-10.41 47.58,-13.63 57.48,-17.4 57.67,-10.41\"/>\n<text text-anchor=\"middle\" x=\"80\" y=\"-18.3\" font-family=\"Times,serif\" font-size=\"14.00\">True</text>\n</g>\n</g>\n</svg>\n"
          },
          "metadata": {},
          "execution_count": 5
        }
      ]
    },
    {
      "cell_type": "code",
      "source": [
        "#Disjunction introduction: from p, infer ( p ∨ q ) . from q, infer ( p ∨ q ) .\n",
        "#TYPE YOUR IMPLEMENTATION FOR CONJUCTION ELIMINATION HERE\n",
        "from flloat.parser.ltlf import LTLfParser\n",
        "\n",
        "# parse the formula\n",
        "parser = LTLfParser()\n",
        "formula = \"F (p -> (p | q))\"\n",
        "parsed_formula = parser(formula)\n",
        "dfa = parsed_formula.to_automaton()\n",
        "graph = dfa.to_graphviz()\n",
        "graph"
      ],
      "metadata": {
        "id": "mO6HgduF-Xxf",
        "colab": {
          "base_uri": "https://localhost:8080/",
          "height": 304
        },
        "outputId": "f232dbb4-30ad-4f72-9e37-b05071620c9f"
      },
      "execution_count": null,
      "outputs": [
        {
          "output_type": "execute_result",
          "data": {
            "text/plain": [
              "<graphviz.dot.Digraph at 0x7f31bc258dc0>"
            ],
            "image/svg+xml": "<?xml version=\"1.0\" encoding=\"UTF-8\" standalone=\"no\"?>\n<!DOCTYPE svg PUBLIC \"-//W3C//DTD SVG 1.1//EN\"\n \"http://www.w3.org/Graphics/SVG/1.1/DTD/svg11.dtd\">\n<!-- Generated by graphviz version 2.43.0 (0)\n -->\n<!-- Title: %3 Pages: 1 -->\n<svg width=\"101pt\" height=\"212pt\"\n viewBox=\"0.00 0.00 101.00 212.00\" xmlns=\"http://www.w3.org/2000/svg\" xmlns:xlink=\"http://www.w3.org/1999/xlink\">\n<g id=\"graph0\" class=\"graph\" transform=\"scale(1 1) rotate(0) translate(4 208)\">\n<title>%3</title>\n<polygon fill=\"white\" stroke=\"transparent\" points=\"-4,4 -4,-208 97,-208 97,4 -4,4\"/>\n<!-- fake -->\n<g id=\"node1\" class=\"node\">\n<title>fake</title>\n</g>\n<!-- 0 -->\n<g id=\"node2\" class=\"node\">\n<title>0</title>\n<ellipse fill=\"none\" stroke=\"black\" cx=\"27\" cy=\"-113\" rx=\"27\" ry=\"18\"/>\n<text text-anchor=\"middle\" x=\"27\" y=\"-109.3\" font-family=\"Times,serif\" font-size=\"14.00\">0</text>\n</g>\n<!-- fake&#45;&gt;0 -->\n<g id=\"edge1\" class=\"edge\">\n<title>fake&#45;&gt;0</title>\n<path fill=\"none\" stroke=\"black\" stroke-width=\"2\" d=\"M27,-167.81C27,-159.79 27,-150.05 27,-141.07\"/>\n<polygon fill=\"black\" stroke=\"black\" stroke-width=\"2\" points=\"30.5,-141.03 27,-131.03 23.5,-141.03 30.5,-141.03\"/>\n</g>\n<!-- 1 -->\n<g id=\"node3\" class=\"node\">\n<title>1</title>\n<ellipse fill=\"none\" stroke=\"black\" cx=\"27\" cy=\"-22\" rx=\"18\" ry=\"18\"/>\n<ellipse fill=\"none\" stroke=\"black\" cx=\"27\" cy=\"-22\" rx=\"22\" ry=\"22\"/>\n<text text-anchor=\"middle\" x=\"27\" y=\"-18.3\" font-family=\"Times,serif\" font-size=\"14.00\">1</text>\n</g>\n<!-- 0&#45;&gt;1 -->\n<g id=\"edge3\" class=\"edge\">\n<title>0&#45;&gt;1</title>\n<path fill=\"none\" stroke=\"black\" d=\"M27,-94.84C27,-83.44 27,-68.13 27,-54.58\"/>\n<polygon fill=\"black\" stroke=\"black\" points=\"30.5,-54.19 27,-44.19 23.5,-54.19 30.5,-54.19\"/>\n<text text-anchor=\"middle\" x=\"40\" y=\"-65.8\" font-family=\"Times,serif\" font-size=\"14.00\">True</text>\n</g>\n<!-- 1&#45;&gt;1 -->\n<g id=\"edge2\" class=\"edge\">\n<title>1&#45;&gt;1</title>\n<path fill=\"none\" stroke=\"black\" d=\"M47.58,-30.37C57.84,-31.53 67,-28.74 67,-22 67,-17.68 63.24,-14.99 57.84,-13.91\"/>\n<polygon fill=\"black\" stroke=\"black\" points=\"57.67,-10.41 47.58,-13.63 57.48,-17.4 57.67,-10.41\"/>\n<text text-anchor=\"middle\" x=\"80\" y=\"-18.3\" font-family=\"Times,serif\" font-size=\"14.00\">True</text>\n</g>\n</g>\n</svg>\n"
          },
          "metadata": {},
          "execution_count": 7
        }
      ]
    },
    {
      "cell_type": "code",
      "source": [
        "#Disjunction introduction: from p, infer ( p ∨ q ) . from q, infer ( p ∨ q ) .\n",
        "#TYPE YOUR IMPLEMENTATION FOR CONJUCTION ELIMINATION HERE\n",
        "from flloat.parser.ltlf import LTLfParser\n",
        "\n",
        "# parse the formula\n",
        "parser = LTLfParser()\n",
        "formula = \"F (q -> (p | q))\"\n",
        "parsed_formula = parser(formula)\n",
        "dfa = parsed_formula.to_automaton()\n",
        "graph = dfa.to_graphviz()\n",
        "graph"
      ],
      "metadata": {
        "colab": {
          "base_uri": "https://localhost:8080/",
          "height": 304
        },
        "id": "61t6DdFBYsEY",
        "outputId": "03a48eb0-99f0-4b81-9b91-f74d6b0d030b"
      },
      "execution_count": null,
      "outputs": [
        {
          "output_type": "execute_result",
          "data": {
            "text/plain": [
              "<graphviz.dot.Digraph at 0x7f31bc099e50>"
            ],
            "image/svg+xml": "<?xml version=\"1.0\" encoding=\"UTF-8\" standalone=\"no\"?>\n<!DOCTYPE svg PUBLIC \"-//W3C//DTD SVG 1.1//EN\"\n \"http://www.w3.org/Graphics/SVG/1.1/DTD/svg11.dtd\">\n<!-- Generated by graphviz version 2.43.0 (0)\n -->\n<!-- Title: %3 Pages: 1 -->\n<svg width=\"101pt\" height=\"212pt\"\n viewBox=\"0.00 0.00 101.00 212.00\" xmlns=\"http://www.w3.org/2000/svg\" xmlns:xlink=\"http://www.w3.org/1999/xlink\">\n<g id=\"graph0\" class=\"graph\" transform=\"scale(1 1) rotate(0) translate(4 208)\">\n<title>%3</title>\n<polygon fill=\"white\" stroke=\"transparent\" points=\"-4,4 -4,-208 97,-208 97,4 -4,4\"/>\n<!-- fake -->\n<g id=\"node1\" class=\"node\">\n<title>fake</title>\n</g>\n<!-- 0 -->\n<g id=\"node2\" class=\"node\">\n<title>0</title>\n<ellipse fill=\"none\" stroke=\"black\" cx=\"27\" cy=\"-113\" rx=\"27\" ry=\"18\"/>\n<text text-anchor=\"middle\" x=\"27\" y=\"-109.3\" font-family=\"Times,serif\" font-size=\"14.00\">0</text>\n</g>\n<!-- fake&#45;&gt;0 -->\n<g id=\"edge1\" class=\"edge\">\n<title>fake&#45;&gt;0</title>\n<path fill=\"none\" stroke=\"black\" stroke-width=\"2\" d=\"M27,-167.81C27,-159.79 27,-150.05 27,-141.07\"/>\n<polygon fill=\"black\" stroke=\"black\" stroke-width=\"2\" points=\"30.5,-141.03 27,-131.03 23.5,-141.03 30.5,-141.03\"/>\n</g>\n<!-- 1 -->\n<g id=\"node3\" class=\"node\">\n<title>1</title>\n<ellipse fill=\"none\" stroke=\"black\" cx=\"27\" cy=\"-22\" rx=\"18\" ry=\"18\"/>\n<ellipse fill=\"none\" stroke=\"black\" cx=\"27\" cy=\"-22\" rx=\"22\" ry=\"22\"/>\n<text text-anchor=\"middle\" x=\"27\" y=\"-18.3\" font-family=\"Times,serif\" font-size=\"14.00\">1</text>\n</g>\n<!-- 0&#45;&gt;1 -->\n<g id=\"edge3\" class=\"edge\">\n<title>0&#45;&gt;1</title>\n<path fill=\"none\" stroke=\"black\" d=\"M27,-94.84C27,-83.44 27,-68.13 27,-54.58\"/>\n<polygon fill=\"black\" stroke=\"black\" points=\"30.5,-54.19 27,-44.19 23.5,-54.19 30.5,-54.19\"/>\n<text text-anchor=\"middle\" x=\"40\" y=\"-65.8\" font-family=\"Times,serif\" font-size=\"14.00\">True</text>\n</g>\n<!-- 1&#45;&gt;1 -->\n<g id=\"edge2\" class=\"edge\">\n<title>1&#45;&gt;1</title>\n<path fill=\"none\" stroke=\"black\" d=\"M47.58,-30.37C57.84,-31.53 67,-28.74 67,-22 67,-17.68 63.24,-14.99 57.84,-13.91\"/>\n<polygon fill=\"black\" stroke=\"black\" points=\"57.67,-10.41 47.58,-13.63 57.48,-17.4 57.67,-10.41\"/>\n<text text-anchor=\"middle\" x=\"80\" y=\"-18.3\" font-family=\"Times,serif\" font-size=\"14.00\">True</text>\n</g>\n</g>\n</svg>\n"
          },
          "metadata": {},
          "execution_count": 8
        }
      ]
    },
    {
      "cell_type": "code",
      "source": [
        "#Disjunction elimination: from ( p ∨ q ) and ( p → r ) and ( q → r ) , infer r.\n",
        "#TYPE YOUR IMPLEMENTATION FOR CONJUCTION ELIMINATION HERE\n",
        "from flloat.parser.ltlf import LTLfParser\n",
        "\n",
        "# parse the formula\n",
        "parser = LTLfParser()\n",
        "formula = \"F (((p | q) & (p -> r) & (q -> r)) -> r)\"\n",
        "parsed_formula = parser(formula)\n",
        "dfa = parsed_formula.to_automaton()\n",
        "graph = dfa.to_graphviz()\n",
        "graph"
      ],
      "metadata": {
        "id": "fwTFzw-m-dAY",
        "colab": {
          "base_uri": "https://localhost:8080/",
          "height": 304
        },
        "outputId": "d83691d7-d8fd-4652-9ce0-1314ed0de9c9"
      },
      "execution_count": null,
      "outputs": [
        {
          "output_type": "execute_result",
          "data": {
            "text/plain": [
              "<graphviz.dot.Digraph at 0x7f31a3f9cb50>"
            ],
            "image/svg+xml": "<?xml version=\"1.0\" encoding=\"UTF-8\" standalone=\"no\"?>\n<!DOCTYPE svg PUBLIC \"-//W3C//DTD SVG 1.1//EN\"\n \"http://www.w3.org/Graphics/SVG/1.1/DTD/svg11.dtd\">\n<!-- Generated by graphviz version 2.43.0 (0)\n -->\n<!-- Title: %3 Pages: 1 -->\n<svg width=\"101pt\" height=\"212pt\"\n viewBox=\"0.00 0.00 101.00 212.00\" xmlns=\"http://www.w3.org/2000/svg\" xmlns:xlink=\"http://www.w3.org/1999/xlink\">\n<g id=\"graph0\" class=\"graph\" transform=\"scale(1 1) rotate(0) translate(4 208)\">\n<title>%3</title>\n<polygon fill=\"white\" stroke=\"transparent\" points=\"-4,4 -4,-208 97,-208 97,4 -4,4\"/>\n<!-- fake -->\n<g id=\"node1\" class=\"node\">\n<title>fake</title>\n</g>\n<!-- 0 -->\n<g id=\"node2\" class=\"node\">\n<title>0</title>\n<ellipse fill=\"none\" stroke=\"black\" cx=\"27\" cy=\"-113\" rx=\"27\" ry=\"18\"/>\n<text text-anchor=\"middle\" x=\"27\" y=\"-109.3\" font-family=\"Times,serif\" font-size=\"14.00\">0</text>\n</g>\n<!-- fake&#45;&gt;0 -->\n<g id=\"edge1\" class=\"edge\">\n<title>fake&#45;&gt;0</title>\n<path fill=\"none\" stroke=\"black\" stroke-width=\"2\" d=\"M27,-167.81C27,-159.79 27,-150.05 27,-141.07\"/>\n<polygon fill=\"black\" stroke=\"black\" stroke-width=\"2\" points=\"30.5,-141.03 27,-131.03 23.5,-141.03 30.5,-141.03\"/>\n</g>\n<!-- 1 -->\n<g id=\"node3\" class=\"node\">\n<title>1</title>\n<ellipse fill=\"none\" stroke=\"black\" cx=\"27\" cy=\"-22\" rx=\"18\" ry=\"18\"/>\n<ellipse fill=\"none\" stroke=\"black\" cx=\"27\" cy=\"-22\" rx=\"22\" ry=\"22\"/>\n<text text-anchor=\"middle\" x=\"27\" y=\"-18.3\" font-family=\"Times,serif\" font-size=\"14.00\">1</text>\n</g>\n<!-- 0&#45;&gt;1 -->\n<g id=\"edge3\" class=\"edge\">\n<title>0&#45;&gt;1</title>\n<path fill=\"none\" stroke=\"black\" d=\"M27,-94.84C27,-83.44 27,-68.13 27,-54.58\"/>\n<polygon fill=\"black\" stroke=\"black\" points=\"30.5,-54.19 27,-44.19 23.5,-54.19 30.5,-54.19\"/>\n<text text-anchor=\"middle\" x=\"40\" y=\"-65.8\" font-family=\"Times,serif\" font-size=\"14.00\">True</text>\n</g>\n<!-- 1&#45;&gt;1 -->\n<g id=\"edge2\" class=\"edge\">\n<title>1&#45;&gt;1</title>\n<path fill=\"none\" stroke=\"black\" d=\"M47.58,-30.37C57.84,-31.53 67,-28.74 67,-22 67,-17.68 63.24,-14.99 57.84,-13.91\"/>\n<polygon fill=\"black\" stroke=\"black\" points=\"57.67,-10.41 47.58,-13.63 57.48,-17.4 57.67,-10.41\"/>\n<text text-anchor=\"middle\" x=\"80\" y=\"-18.3\" font-family=\"Times,serif\" font-size=\"14.00\">True</text>\n</g>\n</g>\n</svg>\n"
          },
          "metadata": {},
          "execution_count": 12
        }
      ]
    },
    {
      "cell_type": "code",
      "source": [
        "#Biconditional introduction: from ( p → q ) and ( q → p ) , infer ( p ↔ q ).\n",
        "#TYPE YOUR IMPLEMENTATION FOR BICONDITIONAL INTRODUCTION HERE\n",
        "from flloat.parser.ltlf import LTLfParser\n",
        "\n",
        "# parse the formula\n",
        "parser = LTLfParser()\n",
        "formula = \"F (((p -> q) & (q -> p)) -> (p <-> q))\"\n",
        "parsed_formula = parser(formula)\n",
        "dfa = parsed_formula.to_automaton()\n",
        "graph = dfa.to_graphviz()\n",
        "graph\n"
      ],
      "metadata": {
        "id": "xQ9Lw0za-jni",
        "colab": {
          "base_uri": "https://localhost:8080/",
          "height": 304
        },
        "outputId": "42006527-afc8-4721-e97e-f88260a042de"
      },
      "execution_count": null,
      "outputs": [
        {
          "output_type": "execute_result",
          "data": {
            "text/plain": [
              "<graphviz.dot.Digraph at 0x7f31a3fd41f0>"
            ],
            "image/svg+xml": "<?xml version=\"1.0\" encoding=\"UTF-8\" standalone=\"no\"?>\n<!DOCTYPE svg PUBLIC \"-//W3C//DTD SVG 1.1//EN\"\n \"http://www.w3.org/Graphics/SVG/1.1/DTD/svg11.dtd\">\n<!-- Generated by graphviz version 2.43.0 (0)\n -->\n<!-- Title: %3 Pages: 1 -->\n<svg width=\"101pt\" height=\"212pt\"\n viewBox=\"0.00 0.00 101.00 212.00\" xmlns=\"http://www.w3.org/2000/svg\" xmlns:xlink=\"http://www.w3.org/1999/xlink\">\n<g id=\"graph0\" class=\"graph\" transform=\"scale(1 1) rotate(0) translate(4 208)\">\n<title>%3</title>\n<polygon fill=\"white\" stroke=\"transparent\" points=\"-4,4 -4,-208 97,-208 97,4 -4,4\"/>\n<!-- fake -->\n<g id=\"node1\" class=\"node\">\n<title>fake</title>\n</g>\n<!-- 0 -->\n<g id=\"node2\" class=\"node\">\n<title>0</title>\n<ellipse fill=\"none\" stroke=\"black\" cx=\"27\" cy=\"-113\" rx=\"27\" ry=\"18\"/>\n<text text-anchor=\"middle\" x=\"27\" y=\"-109.3\" font-family=\"Times,serif\" font-size=\"14.00\">0</text>\n</g>\n<!-- fake&#45;&gt;0 -->\n<g id=\"edge1\" class=\"edge\">\n<title>fake&#45;&gt;0</title>\n<path fill=\"none\" stroke=\"black\" stroke-width=\"2\" d=\"M27,-167.81C27,-159.79 27,-150.05 27,-141.07\"/>\n<polygon fill=\"black\" stroke=\"black\" stroke-width=\"2\" points=\"30.5,-141.03 27,-131.03 23.5,-141.03 30.5,-141.03\"/>\n</g>\n<!-- 1 -->\n<g id=\"node3\" class=\"node\">\n<title>1</title>\n<ellipse fill=\"none\" stroke=\"black\" cx=\"27\" cy=\"-22\" rx=\"18\" ry=\"18\"/>\n<ellipse fill=\"none\" stroke=\"black\" cx=\"27\" cy=\"-22\" rx=\"22\" ry=\"22\"/>\n<text text-anchor=\"middle\" x=\"27\" y=\"-18.3\" font-family=\"Times,serif\" font-size=\"14.00\">1</text>\n</g>\n<!-- 0&#45;&gt;1 -->\n<g id=\"edge3\" class=\"edge\">\n<title>0&#45;&gt;1</title>\n<path fill=\"none\" stroke=\"black\" d=\"M27,-94.84C27,-83.44 27,-68.13 27,-54.58\"/>\n<polygon fill=\"black\" stroke=\"black\" points=\"30.5,-54.19 27,-44.19 23.5,-54.19 30.5,-54.19\"/>\n<text text-anchor=\"middle\" x=\"40\" y=\"-65.8\" font-family=\"Times,serif\" font-size=\"14.00\">True</text>\n</g>\n<!-- 1&#45;&gt;1 -->\n<g id=\"edge2\" class=\"edge\">\n<title>1&#45;&gt;1</title>\n<path fill=\"none\" stroke=\"black\" d=\"M47.58,-30.37C57.84,-31.53 67,-28.74 67,-22 67,-17.68 63.24,-14.99 57.84,-13.91\"/>\n<polygon fill=\"black\" stroke=\"black\" points=\"57.67,-10.41 47.58,-13.63 57.48,-17.4 57.67,-10.41\"/>\n<text text-anchor=\"middle\" x=\"80\" y=\"-18.3\" font-family=\"Times,serif\" font-size=\"14.00\">True</text>\n</g>\n</g>\n</svg>\n"
          },
          "metadata": {},
          "execution_count": 13
        }
      ]
    },
    {
      "cell_type": "code",
      "source": [
        "#Biconditional elimination: from ( p ↔ q ) , infer ( p → q ) . from ( p ↔ q ) , infer ( q → p ) .\n",
        "#TYPE YOUR IMPLEMENTATION FOR BICONDITIONAL ELIMINATION HERE\n",
        "from flloat.parser.ltlf import LTLfParser\n",
        "\n",
        "# parse the formula\n",
        "parser = LTLfParser()\n",
        "formula = \"F ((p <-> q) -> (p -> q))\"\n",
        "parsed_formula = parser(formula)\n",
        "dfa = parsed_formula.to_automaton()\n",
        "graph = dfa.to_graphviz()\n",
        "graph\n"
      ],
      "metadata": {
        "id": "JjWqMIGO-n33",
        "colab": {
          "base_uri": "https://localhost:8080/",
          "height": 304
        },
        "outputId": "1c601175-a7dd-46f4-c6c1-a50538da06b4"
      },
      "execution_count": null,
      "outputs": [
        {
          "output_type": "execute_result",
          "data": {
            "text/plain": [
              "<graphviz.dot.Digraph at 0x7f31bc0ede20>"
            ],
            "image/svg+xml": "<?xml version=\"1.0\" encoding=\"UTF-8\" standalone=\"no\"?>\n<!DOCTYPE svg PUBLIC \"-//W3C//DTD SVG 1.1//EN\"\n \"http://www.w3.org/Graphics/SVG/1.1/DTD/svg11.dtd\">\n<!-- Generated by graphviz version 2.43.0 (0)\n -->\n<!-- Title: %3 Pages: 1 -->\n<svg width=\"101pt\" height=\"212pt\"\n viewBox=\"0.00 0.00 101.00 212.00\" xmlns=\"http://www.w3.org/2000/svg\" xmlns:xlink=\"http://www.w3.org/1999/xlink\">\n<g id=\"graph0\" class=\"graph\" transform=\"scale(1 1) rotate(0) translate(4 208)\">\n<title>%3</title>\n<polygon fill=\"white\" stroke=\"transparent\" points=\"-4,4 -4,-208 97,-208 97,4 -4,4\"/>\n<!-- fake -->\n<g id=\"node1\" class=\"node\">\n<title>fake</title>\n</g>\n<!-- 0 -->\n<g id=\"node2\" class=\"node\">\n<title>0</title>\n<ellipse fill=\"none\" stroke=\"black\" cx=\"27\" cy=\"-113\" rx=\"27\" ry=\"18\"/>\n<text text-anchor=\"middle\" x=\"27\" y=\"-109.3\" font-family=\"Times,serif\" font-size=\"14.00\">0</text>\n</g>\n<!-- fake&#45;&gt;0 -->\n<g id=\"edge1\" class=\"edge\">\n<title>fake&#45;&gt;0</title>\n<path fill=\"none\" stroke=\"black\" stroke-width=\"2\" d=\"M27,-167.81C27,-159.79 27,-150.05 27,-141.07\"/>\n<polygon fill=\"black\" stroke=\"black\" stroke-width=\"2\" points=\"30.5,-141.03 27,-131.03 23.5,-141.03 30.5,-141.03\"/>\n</g>\n<!-- 1 -->\n<g id=\"node3\" class=\"node\">\n<title>1</title>\n<ellipse fill=\"none\" stroke=\"black\" cx=\"27\" cy=\"-22\" rx=\"18\" ry=\"18\"/>\n<ellipse fill=\"none\" stroke=\"black\" cx=\"27\" cy=\"-22\" rx=\"22\" ry=\"22\"/>\n<text text-anchor=\"middle\" x=\"27\" y=\"-18.3\" font-family=\"Times,serif\" font-size=\"14.00\">1</text>\n</g>\n<!-- 0&#45;&gt;1 -->\n<g id=\"edge3\" class=\"edge\">\n<title>0&#45;&gt;1</title>\n<path fill=\"none\" stroke=\"black\" d=\"M27,-94.84C27,-83.44 27,-68.13 27,-54.58\"/>\n<polygon fill=\"black\" stroke=\"black\" points=\"30.5,-54.19 27,-44.19 23.5,-54.19 30.5,-54.19\"/>\n<text text-anchor=\"middle\" x=\"40\" y=\"-65.8\" font-family=\"Times,serif\" font-size=\"14.00\">True</text>\n</g>\n<!-- 1&#45;&gt;1 -->\n<g id=\"edge2\" class=\"edge\">\n<title>1&#45;&gt;1</title>\n<path fill=\"none\" stroke=\"black\" d=\"M47.58,-30.37C57.84,-31.53 67,-28.74 67,-22 67,-17.68 63.24,-14.99 57.84,-13.91\"/>\n<polygon fill=\"black\" stroke=\"black\" points=\"57.67,-10.41 47.58,-13.63 57.48,-17.4 57.67,-10.41\"/>\n<text text-anchor=\"middle\" x=\"80\" y=\"-18.3\" font-family=\"Times,serif\" font-size=\"14.00\">True</text>\n</g>\n</g>\n</svg>\n"
          },
          "metadata": {},
          "execution_count": 14
        }
      ]
    },
    {
      "cell_type": "code",
      "source": [
        "#Biconditional elimination: from ( p ↔ q ) , infer ( p → q ) . from ( p ↔ q ) , infer ( q → p ) .\n",
        "#TYPE YOUR IMPLEMENTATION FOR MODUS PONENS HERE\n",
        "from flloat.parser.ltlf import LTLfParser\n",
        "\n",
        "# parse the formula\n",
        "parser = LTLfParser()\n",
        "formula = \"F ((p <-> q) -> (q -> p))\"\n",
        "parsed_formula = parser(formula)\n",
        "dfa = parsed_formula.to_automaton()\n",
        "graph = dfa.to_graphviz()\n",
        "graph"
      ],
      "metadata": {
        "id": "4-NWRkeU-rnw",
        "colab": {
          "base_uri": "https://localhost:8080/",
          "height": 304
        },
        "outputId": "bc0b02cd-adfa-4522-df38-28e713e6bb92"
      },
      "execution_count": null,
      "outputs": [
        {
          "output_type": "execute_result",
          "data": {
            "text/plain": [
              "<graphviz.dot.Digraph at 0x7f31ecf68e50>"
            ],
            "image/svg+xml": "<?xml version=\"1.0\" encoding=\"UTF-8\" standalone=\"no\"?>\n<!DOCTYPE svg PUBLIC \"-//W3C//DTD SVG 1.1//EN\"\n \"http://www.w3.org/Graphics/SVG/1.1/DTD/svg11.dtd\">\n<!-- Generated by graphviz version 2.43.0 (0)\n -->\n<!-- Title: %3 Pages: 1 -->\n<svg width=\"101pt\" height=\"212pt\"\n viewBox=\"0.00 0.00 101.00 212.00\" xmlns=\"http://www.w3.org/2000/svg\" xmlns:xlink=\"http://www.w3.org/1999/xlink\">\n<g id=\"graph0\" class=\"graph\" transform=\"scale(1 1) rotate(0) translate(4 208)\">\n<title>%3</title>\n<polygon fill=\"white\" stroke=\"transparent\" points=\"-4,4 -4,-208 97,-208 97,4 -4,4\"/>\n<!-- fake -->\n<g id=\"node1\" class=\"node\">\n<title>fake</title>\n</g>\n<!-- 0 -->\n<g id=\"node2\" class=\"node\">\n<title>0</title>\n<ellipse fill=\"none\" stroke=\"black\" cx=\"27\" cy=\"-113\" rx=\"27\" ry=\"18\"/>\n<text text-anchor=\"middle\" x=\"27\" y=\"-109.3\" font-family=\"Times,serif\" font-size=\"14.00\">0</text>\n</g>\n<!-- fake&#45;&gt;0 -->\n<g id=\"edge1\" class=\"edge\">\n<title>fake&#45;&gt;0</title>\n<path fill=\"none\" stroke=\"black\" stroke-width=\"2\" d=\"M27,-167.81C27,-159.79 27,-150.05 27,-141.07\"/>\n<polygon fill=\"black\" stroke=\"black\" stroke-width=\"2\" points=\"30.5,-141.03 27,-131.03 23.5,-141.03 30.5,-141.03\"/>\n</g>\n<!-- 1 -->\n<g id=\"node3\" class=\"node\">\n<title>1</title>\n<ellipse fill=\"none\" stroke=\"black\" cx=\"27\" cy=\"-22\" rx=\"18\" ry=\"18\"/>\n<ellipse fill=\"none\" stroke=\"black\" cx=\"27\" cy=\"-22\" rx=\"22\" ry=\"22\"/>\n<text text-anchor=\"middle\" x=\"27\" y=\"-18.3\" font-family=\"Times,serif\" font-size=\"14.00\">1</text>\n</g>\n<!-- 0&#45;&gt;1 -->\n<g id=\"edge3\" class=\"edge\">\n<title>0&#45;&gt;1</title>\n<path fill=\"none\" stroke=\"black\" d=\"M27,-94.84C27,-83.44 27,-68.13 27,-54.58\"/>\n<polygon fill=\"black\" stroke=\"black\" points=\"30.5,-54.19 27,-44.19 23.5,-54.19 30.5,-54.19\"/>\n<text text-anchor=\"middle\" x=\"40\" y=\"-65.8\" font-family=\"Times,serif\" font-size=\"14.00\">True</text>\n</g>\n<!-- 1&#45;&gt;1 -->\n<g id=\"edge2\" class=\"edge\">\n<title>1&#45;&gt;1</title>\n<path fill=\"none\" stroke=\"black\" d=\"M47.58,-30.37C57.84,-31.53 67,-28.74 67,-22 67,-17.68 63.24,-14.99 57.84,-13.91\"/>\n<polygon fill=\"black\" stroke=\"black\" points=\"57.67,-10.41 47.58,-13.63 57.48,-17.4 57.67,-10.41\"/>\n<text text-anchor=\"middle\" x=\"80\" y=\"-18.3\" font-family=\"Times,serif\" font-size=\"14.00\">True</text>\n</g>\n</g>\n</svg>\n"
          },
          "metadata": {},
          "execution_count": 15
        }
      ]
    },
    {
      "cell_type": "code",
      "source": [
        "#Modus ponens (conditional elimination): from p and ( p → q ) , infer q.\n",
        "#TYPE YOUR IMPLEMENTATION FOR MODUS PONENS HERE\n",
        "from flloat.parser.ltlf import LTLfParser\n",
        "\n",
        "# parse the formula\n",
        "parser = LTLfParser()\n",
        "formula = \"F (p & (p -> q) -> q)\"\n",
        "parsed_formula = parser(formula)\n",
        "dfa = parsed_formula.to_automaton()\n",
        "graph = dfa.to_graphviz()\n",
        "graph\n",
        "#TYPE YOUR IMPLEMENTATION FOR CONDITIONAL HERE"
      ],
      "metadata": {
        "id": "Jl4cTKON-vjw",
        "colab": {
          "base_uri": "https://localhost:8080/",
          "height": 304
        },
        "outputId": "bb2e36ff-4d78-4482-e378-ceadfac310ac"
      },
      "execution_count": null,
      "outputs": [
        {
          "output_type": "execute_result",
          "data": {
            "text/plain": [
              "<graphviz.dot.Digraph at 0x7f31bc088220>"
            ],
            "image/svg+xml": "<?xml version=\"1.0\" encoding=\"UTF-8\" standalone=\"no\"?>\n<!DOCTYPE svg PUBLIC \"-//W3C//DTD SVG 1.1//EN\"\n \"http://www.w3.org/Graphics/SVG/1.1/DTD/svg11.dtd\">\n<!-- Generated by graphviz version 2.43.0 (0)\n -->\n<!-- Title: %3 Pages: 1 -->\n<svg width=\"101pt\" height=\"212pt\"\n viewBox=\"0.00 0.00 101.00 212.00\" xmlns=\"http://www.w3.org/2000/svg\" xmlns:xlink=\"http://www.w3.org/1999/xlink\">\n<g id=\"graph0\" class=\"graph\" transform=\"scale(1 1) rotate(0) translate(4 208)\">\n<title>%3</title>\n<polygon fill=\"white\" stroke=\"transparent\" points=\"-4,4 -4,-208 97,-208 97,4 -4,4\"/>\n<!-- fake -->\n<g id=\"node1\" class=\"node\">\n<title>fake</title>\n</g>\n<!-- 0 -->\n<g id=\"node2\" class=\"node\">\n<title>0</title>\n<ellipse fill=\"none\" stroke=\"black\" cx=\"27\" cy=\"-113\" rx=\"27\" ry=\"18\"/>\n<text text-anchor=\"middle\" x=\"27\" y=\"-109.3\" font-family=\"Times,serif\" font-size=\"14.00\">0</text>\n</g>\n<!-- fake&#45;&gt;0 -->\n<g id=\"edge1\" class=\"edge\">\n<title>fake&#45;&gt;0</title>\n<path fill=\"none\" stroke=\"black\" stroke-width=\"2\" d=\"M27,-167.81C27,-159.79 27,-150.05 27,-141.07\"/>\n<polygon fill=\"black\" stroke=\"black\" stroke-width=\"2\" points=\"30.5,-141.03 27,-131.03 23.5,-141.03 30.5,-141.03\"/>\n</g>\n<!-- 1 -->\n<g id=\"node3\" class=\"node\">\n<title>1</title>\n<ellipse fill=\"none\" stroke=\"black\" cx=\"27\" cy=\"-22\" rx=\"18\" ry=\"18\"/>\n<ellipse fill=\"none\" stroke=\"black\" cx=\"27\" cy=\"-22\" rx=\"22\" ry=\"22\"/>\n<text text-anchor=\"middle\" x=\"27\" y=\"-18.3\" font-family=\"Times,serif\" font-size=\"14.00\">1</text>\n</g>\n<!-- 0&#45;&gt;1 -->\n<g id=\"edge3\" class=\"edge\">\n<title>0&#45;&gt;1</title>\n<path fill=\"none\" stroke=\"black\" d=\"M27,-94.84C27,-83.44 27,-68.13 27,-54.58\"/>\n<polygon fill=\"black\" stroke=\"black\" points=\"30.5,-54.19 27,-44.19 23.5,-54.19 30.5,-54.19\"/>\n<text text-anchor=\"middle\" x=\"40\" y=\"-65.8\" font-family=\"Times,serif\" font-size=\"14.00\">True</text>\n</g>\n<!-- 1&#45;&gt;1 -->\n<g id=\"edge2\" class=\"edge\">\n<title>1&#45;&gt;1</title>\n<path fill=\"none\" stroke=\"black\" d=\"M47.58,-30.37C57.84,-31.53 67,-28.74 67,-22 67,-17.68 63.24,-14.99 57.84,-13.91\"/>\n<polygon fill=\"black\" stroke=\"black\" points=\"57.67,-10.41 47.58,-13.63 57.48,-17.4 57.67,-10.41\"/>\n<text text-anchor=\"middle\" x=\"80\" y=\"-18.3\" font-family=\"Times,serif\" font-size=\"14.00\">True</text>\n</g>\n</g>\n</svg>\n"
          },
          "metadata": {},
          "execution_count": 17
        }
      ]
    },
    {
      "cell_type": "code",
      "source": [
        "#Conditional proof (conditional introduction): from [accepting p allows a proof of q], infer ( p → q ) .\n",
        "#TYPE YOUR IMPLEMENTATION FOR MODUS PONENS HERE\n",
        "from flloat.parser.ltlf import LTLfParser\n",
        "\n",
        "# parse the formula\n",
        "parser = LTLfParser()\n",
        "formula = \"F ((p -> q)\"\n",
        "parsed_formula = parser(formula)\n",
        "dfa = parsed_formula.to_automaton()\n",
        "graph = dfa.to_graphviz()\n",
        "graph\n",
        "#TYPE YOUR IMPLEMENTATION FOR CONDITIONAL HERE"
      ],
      "metadata": {
        "colab": {
          "base_uri": "https://localhost:8080/",
          "height": 478
        },
        "id": "E2mYsKkZa4aN",
        "outputId": "8892f0d0-2734-4ad8-a230-b806789825cb"
      },
      "execution_count": null,
      "outputs": [
        {
          "output_type": "error",
          "ename": "UnexpectedToken",
          "evalue": "ignored",
          "traceback": [
            "\u001b[0;31m---------------------------------------------------------------------------\u001b[0m",
            "\u001b[0;31mKeyError\u001b[0m                                  Traceback (most recent call last)",
            "\u001b[0;32m/usr/local/lib/python3.8/dist-packages/lark/parsers/lalr_parser.py\u001b[0m in \u001b[0;36mfeed_token\u001b[0;34m(self, token, is_end)\u001b[0m\n\u001b[1;32m    125\u001b[0m             \u001b[0;32mtry\u001b[0m\u001b[0;34m:\u001b[0m\u001b[0;34m\u001b[0m\u001b[0;34m\u001b[0m\u001b[0m\n\u001b[0;32m--> 126\u001b[0;31m                 \u001b[0maction\u001b[0m\u001b[0;34m,\u001b[0m \u001b[0marg\u001b[0m \u001b[0;34m=\u001b[0m \u001b[0mstates\u001b[0m\u001b[0;34m[\u001b[0m\u001b[0mstate\u001b[0m\u001b[0;34m]\u001b[0m\u001b[0;34m[\u001b[0m\u001b[0mtoken\u001b[0m\u001b[0;34m.\u001b[0m\u001b[0mtype\u001b[0m\u001b[0;34m]\u001b[0m\u001b[0;34m\u001b[0m\u001b[0;34m\u001b[0m\u001b[0m\n\u001b[0m\u001b[1;32m    127\u001b[0m             \u001b[0;32mexcept\u001b[0m \u001b[0mKeyError\u001b[0m\u001b[0;34m:\u001b[0m\u001b[0;34m\u001b[0m\u001b[0;34m\u001b[0m\u001b[0m\n",
            "\u001b[0;31mKeyError\u001b[0m: '$END'",
            "\nDuring handling of the above exception, another exception occurred:\n",
            "\u001b[0;31mUnexpectedToken\u001b[0m                           Traceback (most recent call last)",
            "\u001b[0;32m<ipython-input-19-d925b2dab17c>\u001b[0m in \u001b[0;36m<module>\u001b[0;34m\u001b[0m\n\u001b[1;32m      6\u001b[0m \u001b[0mparser\u001b[0m \u001b[0;34m=\u001b[0m \u001b[0mLTLfParser\u001b[0m\u001b[0;34m(\u001b[0m\u001b[0;34m)\u001b[0m\u001b[0;34m\u001b[0m\u001b[0;34m\u001b[0m\u001b[0m\n\u001b[1;32m      7\u001b[0m \u001b[0mformula\u001b[0m \u001b[0;34m=\u001b[0m \u001b[0;34m\"F ((p -> q)\"\u001b[0m\u001b[0;34m\u001b[0m\u001b[0;34m\u001b[0m\u001b[0m\n\u001b[0;32m----> 8\u001b[0;31m \u001b[0mparsed_formula\u001b[0m \u001b[0;34m=\u001b[0m \u001b[0mparser\u001b[0m\u001b[0;34m(\u001b[0m\u001b[0mformula\u001b[0m\u001b[0;34m)\u001b[0m\u001b[0;34m\u001b[0m\u001b[0;34m\u001b[0m\u001b[0m\n\u001b[0m\u001b[1;32m      9\u001b[0m \u001b[0mdfa\u001b[0m \u001b[0;34m=\u001b[0m \u001b[0mparsed_formula\u001b[0m\u001b[0;34m.\u001b[0m\u001b[0mto_automaton\u001b[0m\u001b[0;34m(\u001b[0m\u001b[0;34m)\u001b[0m\u001b[0;34m\u001b[0m\u001b[0;34m\u001b[0m\u001b[0m\n\u001b[1;32m     10\u001b[0m \u001b[0mgraph\u001b[0m \u001b[0;34m=\u001b[0m \u001b[0mdfa\u001b[0m\u001b[0;34m.\u001b[0m\u001b[0mto_graphviz\u001b[0m\u001b[0;34m(\u001b[0m\u001b[0;34m)\u001b[0m\u001b[0;34m\u001b[0m\u001b[0;34m\u001b[0m\u001b[0m\n",
            "\u001b[0;32m/usr/local/lib/python3.8/dist-packages/flloat/parser/ltlf.py\u001b[0m in \u001b[0;36m__call__\u001b[0;34m(self, text)\u001b[0m\n\u001b[1;32m    179\u001b[0m \u001b[0;34m\u001b[0m\u001b[0m\n\u001b[1;32m    180\u001b[0m     \u001b[0;32mdef\u001b[0m \u001b[0m__call__\u001b[0m\u001b[0;34m(\u001b[0m\u001b[0mself\u001b[0m\u001b[0;34m,\u001b[0m \u001b[0mtext\u001b[0m\u001b[0;34m)\u001b[0m\u001b[0;34m:\u001b[0m\u001b[0;34m\u001b[0m\u001b[0;34m\u001b[0m\u001b[0m\n\u001b[0;32m--> 181\u001b[0;31m         \u001b[0mtree\u001b[0m \u001b[0;34m=\u001b[0m \u001b[0mself\u001b[0m\u001b[0;34m.\u001b[0m\u001b[0m_parser\u001b[0m\u001b[0;34m.\u001b[0m\u001b[0mparse\u001b[0m\u001b[0;34m(\u001b[0m\u001b[0mtext\u001b[0m\u001b[0;34m)\u001b[0m\u001b[0;34m\u001b[0m\u001b[0;34m\u001b[0m\u001b[0m\n\u001b[0m\u001b[1;32m    182\u001b[0m         \u001b[0mformula\u001b[0m \u001b[0;34m=\u001b[0m \u001b[0mself\u001b[0m\u001b[0;34m.\u001b[0m\u001b[0m_transformer\u001b[0m\u001b[0;34m.\u001b[0m\u001b[0mtransform\u001b[0m\u001b[0;34m(\u001b[0m\u001b[0mtree\u001b[0m\u001b[0;34m)\u001b[0m\u001b[0;34m\u001b[0m\u001b[0;34m\u001b[0m\u001b[0m\n\u001b[1;32m    183\u001b[0m         \u001b[0;32mreturn\u001b[0m \u001b[0mformula\u001b[0m\u001b[0;34m\u001b[0m\u001b[0;34m\u001b[0m\u001b[0m\n",
            "\u001b[0;32m/usr/local/lib/python3.8/dist-packages/lark/lark.py\u001b[0m in \u001b[0;36mparse\u001b[0;34m(self, text, start, on_error)\u001b[0m\n\u001b[1;32m    579\u001b[0m \u001b[0;34m\u001b[0m\u001b[0m\n\u001b[1;32m    580\u001b[0m         \"\"\"\n\u001b[0;32m--> 581\u001b[0;31m         \u001b[0;32mreturn\u001b[0m \u001b[0mself\u001b[0m\u001b[0;34m.\u001b[0m\u001b[0mparser\u001b[0m\u001b[0;34m.\u001b[0m\u001b[0mparse\u001b[0m\u001b[0;34m(\u001b[0m\u001b[0mtext\u001b[0m\u001b[0;34m,\u001b[0m \u001b[0mstart\u001b[0m\u001b[0;34m=\u001b[0m\u001b[0mstart\u001b[0m\u001b[0;34m,\u001b[0m \u001b[0mon_error\u001b[0m\u001b[0;34m=\u001b[0m\u001b[0mon_error\u001b[0m\u001b[0;34m)\u001b[0m\u001b[0;34m\u001b[0m\u001b[0;34m\u001b[0m\u001b[0m\n\u001b[0m\u001b[1;32m    582\u001b[0m \u001b[0;34m\u001b[0m\u001b[0m\n\u001b[1;32m    583\u001b[0m     \u001b[0;34m@\u001b[0m\u001b[0mproperty\u001b[0m\u001b[0;34m\u001b[0m\u001b[0;34m\u001b[0m\u001b[0m\n",
            "\u001b[0;32m/usr/local/lib/python3.8/dist-packages/lark/parser_frontends.py\u001b[0m in \u001b[0;36mparse\u001b[0;34m(self, text, start, on_error)\u001b[0m\n\u001b[1;32m    104\u001b[0m         \u001b[0mstream\u001b[0m \u001b[0;34m=\u001b[0m \u001b[0mtext\u001b[0m \u001b[0;32mif\u001b[0m \u001b[0mself\u001b[0m\u001b[0;34m.\u001b[0m\u001b[0mskip_lexer\u001b[0m \u001b[0;32melse\u001b[0m \u001b[0mLexerThread\u001b[0m\u001b[0;34m(\u001b[0m\u001b[0mself\u001b[0m\u001b[0;34m.\u001b[0m\u001b[0mlexer\u001b[0m\u001b[0;34m,\u001b[0m \u001b[0mtext\u001b[0m\u001b[0;34m)\u001b[0m\u001b[0;34m\u001b[0m\u001b[0;34m\u001b[0m\u001b[0m\n\u001b[1;32m    105\u001b[0m         \u001b[0mkw\u001b[0m \u001b[0;34m=\u001b[0m \u001b[0;34m{\u001b[0m\u001b[0;34m}\u001b[0m \u001b[0;32mif\u001b[0m \u001b[0mon_error\u001b[0m \u001b[0;32mis\u001b[0m \u001b[0;32mNone\u001b[0m \u001b[0;32melse\u001b[0m \u001b[0;34m{\u001b[0m\u001b[0;34m'on_error'\u001b[0m\u001b[0;34m:\u001b[0m \u001b[0mon_error\u001b[0m\u001b[0;34m}\u001b[0m\u001b[0;34m\u001b[0m\u001b[0;34m\u001b[0m\u001b[0m\n\u001b[0;32m--> 106\u001b[0;31m         \u001b[0;32mreturn\u001b[0m \u001b[0mself\u001b[0m\u001b[0;34m.\u001b[0m\u001b[0mparser\u001b[0m\u001b[0;34m.\u001b[0m\u001b[0mparse\u001b[0m\u001b[0;34m(\u001b[0m\u001b[0mstream\u001b[0m\u001b[0;34m,\u001b[0m \u001b[0mchosen_start\u001b[0m\u001b[0;34m,\u001b[0m \u001b[0;34m**\u001b[0m\u001b[0mkw\u001b[0m\u001b[0;34m)\u001b[0m\u001b[0;34m\u001b[0m\u001b[0;34m\u001b[0m\u001b[0m\n\u001b[0m\u001b[1;32m    107\u001b[0m \u001b[0;34m\u001b[0m\u001b[0m\n\u001b[1;32m    108\u001b[0m     \u001b[0;32mdef\u001b[0m \u001b[0mparse_interactive\u001b[0m\u001b[0;34m(\u001b[0m\u001b[0mself\u001b[0m\u001b[0;34m,\u001b[0m \u001b[0mtext\u001b[0m\u001b[0;34m=\u001b[0m\u001b[0;32mNone\u001b[0m\u001b[0;34m,\u001b[0m \u001b[0mstart\u001b[0m\u001b[0;34m=\u001b[0m\u001b[0;32mNone\u001b[0m\u001b[0;34m)\u001b[0m\u001b[0;34m:\u001b[0m\u001b[0;34m\u001b[0m\u001b[0;34m\u001b[0m\u001b[0m\n",
            "\u001b[0;32m/usr/local/lib/python3.8/dist-packages/lark/parsers/lalr_parser.py\u001b[0m in \u001b[0;36mparse\u001b[0;34m(self, lexer, start, on_error)\u001b[0m\n\u001b[1;32m     39\u001b[0m     \u001b[0;32mdef\u001b[0m \u001b[0mparse\u001b[0m\u001b[0;34m(\u001b[0m\u001b[0mself\u001b[0m\u001b[0;34m,\u001b[0m \u001b[0mlexer\u001b[0m\u001b[0;34m,\u001b[0m \u001b[0mstart\u001b[0m\u001b[0;34m,\u001b[0m \u001b[0mon_error\u001b[0m\u001b[0;34m=\u001b[0m\u001b[0;32mNone\u001b[0m\u001b[0;34m)\u001b[0m\u001b[0;34m:\u001b[0m\u001b[0;34m\u001b[0m\u001b[0;34m\u001b[0m\u001b[0m\n\u001b[1;32m     40\u001b[0m         \u001b[0;32mtry\u001b[0m\u001b[0;34m:\u001b[0m\u001b[0;34m\u001b[0m\u001b[0;34m\u001b[0m\u001b[0m\n\u001b[0;32m---> 41\u001b[0;31m             \u001b[0;32mreturn\u001b[0m \u001b[0mself\u001b[0m\u001b[0;34m.\u001b[0m\u001b[0mparser\u001b[0m\u001b[0;34m.\u001b[0m\u001b[0mparse\u001b[0m\u001b[0;34m(\u001b[0m\u001b[0mlexer\u001b[0m\u001b[0;34m,\u001b[0m \u001b[0mstart\u001b[0m\u001b[0;34m)\u001b[0m\u001b[0;34m\u001b[0m\u001b[0;34m\u001b[0m\u001b[0m\n\u001b[0m\u001b[1;32m     42\u001b[0m         \u001b[0;32mexcept\u001b[0m \u001b[0mUnexpectedInput\u001b[0m \u001b[0;32mas\u001b[0m \u001b[0me\u001b[0m\u001b[0;34m:\u001b[0m\u001b[0;34m\u001b[0m\u001b[0;34m\u001b[0m\u001b[0m\n\u001b[1;32m     43\u001b[0m             \u001b[0;32mif\u001b[0m \u001b[0mon_error\u001b[0m \u001b[0;32mis\u001b[0m \u001b[0;32mNone\u001b[0m\u001b[0;34m:\u001b[0m\u001b[0;34m\u001b[0m\u001b[0;34m\u001b[0m\u001b[0m\n",
            "\u001b[0;32m/usr/local/lib/python3.8/dist-packages/lark/parsers/lalr_parser.py\u001b[0m in \u001b[0;36mparse\u001b[0;34m(self, lexer, start, value_stack, state_stack, start_interactive)\u001b[0m\n\u001b[1;32m    169\u001b[0m         \u001b[0;32mif\u001b[0m \u001b[0mstart_interactive\u001b[0m\u001b[0;34m:\u001b[0m\u001b[0;34m\u001b[0m\u001b[0;34m\u001b[0m\u001b[0m\n\u001b[1;32m    170\u001b[0m             \u001b[0;32mreturn\u001b[0m \u001b[0mInteractiveParser\u001b[0m\u001b[0;34m(\u001b[0m\u001b[0mself\u001b[0m\u001b[0;34m,\u001b[0m \u001b[0mparser_state\u001b[0m\u001b[0;34m,\u001b[0m \u001b[0mparser_state\u001b[0m\u001b[0;34m.\u001b[0m\u001b[0mlexer\u001b[0m\u001b[0;34m)\u001b[0m\u001b[0;34m\u001b[0m\u001b[0;34m\u001b[0m\u001b[0m\n\u001b[0;32m--> 171\u001b[0;31m         \u001b[0;32mreturn\u001b[0m \u001b[0mself\u001b[0m\u001b[0;34m.\u001b[0m\u001b[0mparse_from_state\u001b[0m\u001b[0;34m(\u001b[0m\u001b[0mparser_state\u001b[0m\u001b[0;34m)\u001b[0m\u001b[0;34m\u001b[0m\u001b[0;34m\u001b[0m\u001b[0m\n\u001b[0m\u001b[1;32m    172\u001b[0m \u001b[0;34m\u001b[0m\u001b[0m\n\u001b[1;32m    173\u001b[0m \u001b[0;34m\u001b[0m\u001b[0m\n",
            "\u001b[0;32m/usr/local/lib/python3.8/dist-packages/lark/parsers/lalr_parser.py\u001b[0m in \u001b[0;36mparse_from_state\u001b[0;34m(self, state)\u001b[0m\n\u001b[1;32m    186\u001b[0m             \u001b[0;32mexcept\u001b[0m \u001b[0mNameError\u001b[0m\u001b[0;34m:\u001b[0m\u001b[0;34m\u001b[0m\u001b[0;34m\u001b[0m\u001b[0m\n\u001b[1;32m    187\u001b[0m                 \u001b[0;32mpass\u001b[0m\u001b[0;34m\u001b[0m\u001b[0;34m\u001b[0m\u001b[0m\n\u001b[0;32m--> 188\u001b[0;31m             \u001b[0;32mraise\u001b[0m \u001b[0me\u001b[0m\u001b[0;34m\u001b[0m\u001b[0;34m\u001b[0m\u001b[0m\n\u001b[0m\u001b[1;32m    189\u001b[0m         \u001b[0;32mexcept\u001b[0m \u001b[0mException\u001b[0m \u001b[0;32mas\u001b[0m \u001b[0me\u001b[0m\u001b[0;34m:\u001b[0m\u001b[0;34m\u001b[0m\u001b[0;34m\u001b[0m\u001b[0m\n\u001b[1;32m    190\u001b[0m             \u001b[0;32mif\u001b[0m \u001b[0mself\u001b[0m\u001b[0;34m.\u001b[0m\u001b[0mdebug\u001b[0m\u001b[0;34m:\u001b[0m\u001b[0;34m\u001b[0m\u001b[0;34m\u001b[0m\u001b[0m\n",
            "\u001b[0;32m/usr/local/lib/python3.8/dist-packages/lark/parsers/lalr_parser.py\u001b[0m in \u001b[0;36mparse_from_state\u001b[0;34m(self, state)\u001b[0m\n\u001b[1;32m    180\u001b[0m \u001b[0;34m\u001b[0m\u001b[0m\n\u001b[1;32m    181\u001b[0m             \u001b[0mend_token\u001b[0m \u001b[0;34m=\u001b[0m \u001b[0mToken\u001b[0m\u001b[0;34m.\u001b[0m\u001b[0mnew_borrow_pos\u001b[0m\u001b[0;34m(\u001b[0m\u001b[0;34m'$END'\u001b[0m\u001b[0;34m,\u001b[0m \u001b[0;34m''\u001b[0m\u001b[0;34m,\u001b[0m \u001b[0mtoken\u001b[0m\u001b[0;34m)\u001b[0m \u001b[0;32mif\u001b[0m \u001b[0mtoken\u001b[0m \u001b[0;32melse\u001b[0m \u001b[0mToken\u001b[0m\u001b[0;34m(\u001b[0m\u001b[0;34m'$END'\u001b[0m\u001b[0;34m,\u001b[0m \u001b[0;34m''\u001b[0m\u001b[0;34m,\u001b[0m \u001b[0;36m0\u001b[0m\u001b[0;34m,\u001b[0m \u001b[0;36m1\u001b[0m\u001b[0;34m,\u001b[0m \u001b[0;36m1\u001b[0m\u001b[0;34m)\u001b[0m\u001b[0;34m\u001b[0m\u001b[0;34m\u001b[0m\u001b[0m\n\u001b[0;32m--> 182\u001b[0;31m             \u001b[0;32mreturn\u001b[0m \u001b[0mstate\u001b[0m\u001b[0;34m.\u001b[0m\u001b[0mfeed_token\u001b[0m\u001b[0;34m(\u001b[0m\u001b[0mend_token\u001b[0m\u001b[0;34m,\u001b[0m \u001b[0;32mTrue\u001b[0m\u001b[0;34m)\u001b[0m\u001b[0;34m\u001b[0m\u001b[0;34m\u001b[0m\u001b[0m\n\u001b[0m\u001b[1;32m    183\u001b[0m         \u001b[0;32mexcept\u001b[0m \u001b[0mUnexpectedInput\u001b[0m \u001b[0;32mas\u001b[0m \u001b[0me\u001b[0m\u001b[0;34m:\u001b[0m\u001b[0;34m\u001b[0m\u001b[0;34m\u001b[0m\u001b[0m\n\u001b[1;32m    184\u001b[0m             \u001b[0;32mtry\u001b[0m\u001b[0;34m:\u001b[0m\u001b[0;34m\u001b[0m\u001b[0;34m\u001b[0m\u001b[0m\n",
            "\u001b[0;32m/usr/local/lib/python3.8/dist-packages/lark/parsers/lalr_parser.py\u001b[0m in \u001b[0;36mfeed_token\u001b[0;34m(self, token, is_end)\u001b[0m\n\u001b[1;32m    127\u001b[0m             \u001b[0;32mexcept\u001b[0m \u001b[0mKeyError\u001b[0m\u001b[0;34m:\u001b[0m\u001b[0;34m\u001b[0m\u001b[0;34m\u001b[0m\u001b[0m\n\u001b[1;32m    128\u001b[0m                 \u001b[0mexpected\u001b[0m \u001b[0;34m=\u001b[0m \u001b[0;34m{\u001b[0m\u001b[0ms\u001b[0m \u001b[0;32mfor\u001b[0m \u001b[0ms\u001b[0m \u001b[0;32min\u001b[0m \u001b[0mstates\u001b[0m\u001b[0;34m[\u001b[0m\u001b[0mstate\u001b[0m\u001b[0;34m]\u001b[0m\u001b[0;34m.\u001b[0m\u001b[0mkeys\u001b[0m\u001b[0;34m(\u001b[0m\u001b[0;34m)\u001b[0m \u001b[0;32mif\u001b[0m \u001b[0ms\u001b[0m\u001b[0;34m.\u001b[0m\u001b[0misupper\u001b[0m\u001b[0;34m(\u001b[0m\u001b[0;34m)\u001b[0m\u001b[0;34m}\u001b[0m\u001b[0;34m\u001b[0m\u001b[0;34m\u001b[0m\u001b[0m\n\u001b[0;32m--> 129\u001b[0;31m                 \u001b[0;32mraise\u001b[0m \u001b[0mUnexpectedToken\u001b[0m\u001b[0;34m(\u001b[0m\u001b[0mtoken\u001b[0m\u001b[0;34m,\u001b[0m \u001b[0mexpected\u001b[0m\u001b[0;34m,\u001b[0m \u001b[0mstate\u001b[0m\u001b[0;34m=\u001b[0m\u001b[0mself\u001b[0m\u001b[0;34m,\u001b[0m \u001b[0minteractive_parser\u001b[0m\u001b[0;34m=\u001b[0m\u001b[0;32mNone\u001b[0m\u001b[0;34m)\u001b[0m\u001b[0;34m\u001b[0m\u001b[0;34m\u001b[0m\u001b[0m\n\u001b[0m\u001b[1;32m    130\u001b[0m \u001b[0;34m\u001b[0m\u001b[0m\n\u001b[1;32m    131\u001b[0m             \u001b[0;32massert\u001b[0m \u001b[0marg\u001b[0m \u001b[0;34m!=\u001b[0m \u001b[0mend_state\u001b[0m\u001b[0;34m\u001b[0m\u001b[0;34m\u001b[0m\u001b[0m\n",
            "\u001b[0;31mUnexpectedToken\u001b[0m: Unexpected token Token('$END', '') at line 1, column 11.\nExpected one of: \n\t* RSEPARATOR\n"
          ]
        }
      ]
    }
  ]
}