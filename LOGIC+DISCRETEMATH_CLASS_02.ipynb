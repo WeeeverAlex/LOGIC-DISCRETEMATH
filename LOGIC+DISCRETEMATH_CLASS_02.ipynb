{
  "cells": [
    {
      "cell_type": "markdown",
      "metadata": {
        "id": "33EEpDW7pOaO"
      },
      "source": [
        "<div class=\"alert alert-block alert-info\">\n",
        "\n",
        "#**CLASS 02 - PROPOSITIONAL LOGIC**\n",
        "**Learning Objectives:**\n",
        "*   Understanding of Propositional Logic\n",
        "*   Understanding of Propositional Calculus\n",
        "*   Implementation in Propositional Calculus\n",
        "\n",
        "</div>\n"
      ]
    },
    {
      "cell_type": "markdown",
      "metadata": {
        "id": "kZiBpTcaqciT"
      },
      "source": [
        "## **PROPOSITIONAL LOGIC**\n",
        "\n",
        "Propositional calculus is a branch of logic. It is also called propositional logic, statement logic, sentential calculus, sentential logic, or sometimes zeroth-order logic. It deals with propositions (which can be true or false) and relations between propositions, including the construction of arguments based on them. Compound propositions are formed by connecting propositions by logical connectives. Propositions that contain no logical connectives are called atomic propositions.\n",
        "\n",
        "Unlike first-order logic, propositional logic does not deal with non-logical objects, predicates about them, or quantifiers. However, all the machinery of propositional logic is included in first-order logic and higher-order logics. In this sense, propositional logic is the foundation of first-order logic and higher-order logic. "
      ]
    },
    {
      "cell_type": "markdown",
      "metadata": {
        "id": "E-x6A4P_r7hQ"
      },
      "source": [
        "Logical connectives are found in natural languages. In English for example, some examples are \"and\" (conjunction), \"or\" (disjunction), \"not\" (negation) and \"if\" (but only when used to denote material conditional).\n",
        "\n",
        "The following is an example of a very simple inference within the scope of propositional logic:\n",
        "\n",
        "    Premise 1: If it's raining then it's cloudy.\n",
        "    Premise 2: It's raining.\n",
        "    Conclusion: It's cloudy.\n",
        "\n",
        "Both premises and the conclusion are propositions. The premises are taken for granted, and with the application of modus ponens (an inference rule), the conclusion follows.\n",
        "\n",
        "As propositional logic is not concerned with the structure of propositions beyond the point where they can't be decomposed any more by logical connectives, this inference can be restated replacing those atomic statements with statement letters, which are interpreted as variables representing statements:\n",
        "\n",
        "    Premise 1: P → Q \n",
        "    Premise 2: P\n",
        "    Conclusion: Q\n",
        "\n",
        "The same can be stated succinctly in the following way:\n",
        "\n",
        "    P → Q, P\n",
        "    ________\n",
        "      Q\n",
        "\n",
        "\n",
        "When P is interpreted as \"It's raining\" and Q as \"it's cloudy\" the above symbolic expressions can be seen to correspond exactly with the original expression in natural language. Not only that, but they will also correspond with any other inference of this form, which will be valid on the same basis this inference is.\n",
        "\n",
        "Propositional logic may be studied through a formal system in which formulas of a formal language may be interpreted to represent propositions. A system of axioms and inference rules allows certain formulas to be derived. These derived formulas are called theorems and may be interpreted to be true propositions. A constructed sequence of such formulas is known as a derivation or proof and the last formula of the sequence is the theorem. The derivation may be interpreted as proof of the proposition represented by the theorem.\n",
        "\n",
        "When a formal system is used to represent formal logic, only statement letters (usually capital roman letters such as P P, Q Q and R R) are represented directly. The natural language propositions that arise when they're interpreted are outside the scope of the system, and the relation between the formal system and its interpretation is likewise outside the formal system itself.\n",
        "\n",
        "In classical truth-functional propositional logic, formulas are interpreted as having precisely one of two possible truth values, the truth value of true or the truth value of false.The principle of bivalence and the law of excluded middle are upheld. Truth-functional propositional logic defined as such and systems isomorphic to it are considered to be zeroth-order logic. However, alternative propositional logics are also possible."
      ]
    },
    {
      "cell_type": "markdown",
      "metadata": {
        "id": "ZxWI50P2pRAV"
      },
      "source": [
        "## **PROPOSITIONAL CALCULUS**\n",
        "\n",
        "In general terms, a **calculus** is a formal system that consists of a set of syntactic expressions (well-formed formulas), a distinguished subset of these expressions (axioms), plus a set of formal rules that define a specific binary relation, intended to be interpreted as logical equivalence, on the space of expressions. \n",
        "\n",
        "The following outlines a standard propositional calculus. Many different formulations exist which are all more or less equivalent, but differ in the details of:\n",
        "\n",
        "*   their language (i.e., the particular collection of primitive symbols and operator symbols)\n",
        "*   the set of axioms, or distinguished formulas, and\n",
        "*   the set of inference rules\n",
        "\n",
        "\n",
        "\n",
        "Any given proposition may be represented with a letter called a 'propositional constant', analogous to representing a number by a letter in mathematics (e.g., a = 5). All propositions require exactly one of two truth-values: true or false. For example, let P be the proposition that it is raining outside. This will be true (P) if it is raining outside, and false otherwise (¬P).\n",
        "\n",
        "\n",
        "* We then define truth-functional operators, beginning with **negation**. ¬P represents the negation of P, which can be thought of as the denial of P. In the example above, ¬P expresses that it is not raining outside, or by a more standard reading: \"It is not the case that it is raining outside.\" When P is true, ¬P is false; and when P is false, ¬P is true. As a result, ¬ ¬P always has the same truth-value as P.\n",
        "\n",
        "* **Conjunction** is a truth-functional connective which forms a proposition out of two simpler propositions, for example, P and Q. The conjunction of P and Q is written P ∧ Q, and expresses that each are true. We read P ∧ Q as \"P and Q\". For any two propositions, there are four possible assignments of truth values:\n",
        "\n",
        "        P is true and Q is true\n",
        "        P is true and Q is false\n",
        "        P is false and Q is true\n",
        "        P is false and Q is false\n",
        "\n",
        "\n",
        "* **Disjunction** resembles conjunction in that it forms a proposition out of two simpler propositions. We write it P ∨ Q, and it is read \"P or Q\". It expresses that either P or Q is true. Thus, in the cases listed above, the disjunction of P with Q is true in all cases—except case 4. Using the example above, the disjunction expresses that it is either raining outside, or there is a cold front over Kansas. (Note, this use of disjunction is supposed to resemble the use of the English word \"or\". However, it is most like the English inclusive \"or\", which can be used to express the truth of at least one of two propositions. It is not like the English exclusive \"or\", which expresses the truth of exactly one of two propositions. In other words, the exclusive \"or\" is false when both P and Q are true (case 1), and similarly is false when both P and Q are false (case 4). An example of the exclusive or is: You may have a bagel or a pastry, but not both. Often in natural language, given the appropriate context, the addendum \"but not both\" is omitted—but implied. In mathematics, however, \"or\" is always inclusive or; if exclusive or is meant it will be specified, possibly by \"xor\".)\n",
        "\n",
        "* **Conditional** also joins two simpler propositions, and we write P → Q, which is read \"if P then Q\". The proposition to the left of the arrow is called the antecedent, and the proposition to the right is called the consequent. (There is no such designation for conjunction or disjunction, since they are commutative operations.) It expresses that Q is true whenever P is true. Thus P → Q is true in every case above except case 2, because this is the only case when P is true but Q is not. Using the example, if P then Q expresses that if it is raining outside, then there is a cold-front over Kansas. The material conditional is often confused with physical causation. The material conditional, however, only relates two propositions by their truth-values—which is not the relation of cause and effect. It is contentious in the literature whether the material implication represents logical causation.\n",
        "    \n",
        "    \n",
        "* **Biconditional** joins two simpler propositions, and we write P ↔ Q, which is read \"P if and only if Q\". It expresses that P and Q have the same truth-value, and in cases 1 and 4. 'P is true if and only if Q' is true, and is false otherwise.\n",
        "\n",
        "The propositional calculus then defines an argument to be a list of propositions. A valid argument is a list of propositions, the last of which follows from—or is implied by—the rest. All other arguments are invalid. The simplest valid argument is **modus ponens**, one instance of which is the following list of propositions:\n",
        "\n",
        "    1. P → Q \n",
        "    2. P \n",
        "    ________\n",
        "       ∴ Q\n",
        "\n",
        "This is a list of three propositions, each line is a proposition, and the last follows from the rest. The first two lines are called premises, and the last line the conclusion. We say that any proposition C follows from any set of propositions ( P 1 , . . . , P n ) (P_{1},...,P_{n}), if C must be true whenever every member of the set ( P 1 , . . . , P n ) (P_{1},...,P_{n}) is true. In the argument above, for any P and Q, whenever P → Q and P are true, necessarily Q is true. Notice that, when P is true, we cannot consider cases 3 and 4 (from the truth table). When P → Q is true, we cannot consider case 2. This leaves only case 1, in which Q is also true. Thus Q is implied by the premises.\n",
        "\n",
        "This generalizes schematically. Thus, where φ and ψ may be any propositions at all,\n",
        "\n",
        "    1. φ → ψ \n",
        "    2. φ \n",
        "    _________\n",
        "        ∴ ψ "
      ]
    },
    {
      "cell_type": "markdown",
      "metadata": {
        "id": "PrRN5MXDwWKr"
      },
      "source": [
        "## **NATURAL DEDUCTION SYSTEM**\n",
        "\n",
        "Our propositional calculus,called Natural Deduction System,  has eleven inference rules. These rules allow us to derive other true formulas given a set of formulas that are assumed to be true:\n",
        "\n",
        "\n",
        "\n",
        "* **Negation introduction:** from ( p → q ) and ( p → ¬ q ) , infer ¬ p. \n",
        "    \n",
        "* **Negation elimination:** from ¬ p , infer ( p → r ). \n",
        "    \n",
        "* **Double negation elimination:** from ¬ ¬ p, infer p.\n",
        "    \n",
        "* **Conjunction introduction:** from p and q, infer ( p ∧ q ) .\n",
        "    \n",
        "* **Conjunction elimination:** from ( p ∧ q ), infer p. from ( p ∧ q ) , infer q.\n",
        "    \n",
        "* **Disjunction introduction:** from p, infer ( p ∨ q ) . from q, infer ( p ∨ q ) .\n",
        "   \n",
        "* **Disjunction elimination:** from ( p ∨ q ) and ( p → r )  and ( q → r ) , infer r.\n",
        "    \n",
        "* **Biconditional introduction:** from ( p → q )  and ( q → p ) , infer ( p ↔ q ).\n",
        "    \n",
        "* **Biconditional elimination:** from ( p ↔ q ) , infer ( p → q ) . from ( p ↔ q ) , infer ( q → p ) .\n",
        "    \n",
        "* **Modus ponens (conditional elimination):** from and ( p → q ) , infer q.\n",
        "    \n",
        "* **Conditional proof (conditional introduction):** from [accepting p allows a proof of q], infer ( p → q ) .\n",
        "    \n",
        "\n"
      ]
    },
    {
      "cell_type": "markdown",
      "metadata": {
        "id": "3ypLUjyP2u9Q"
      },
      "source": [
        "### **EXERCISE 1** \n",
        "\n",
        "Using the module FLLOAT, verify the **Negation introduction**: from ( p → q ) and ( p → ¬ q ) , infer ¬ p. "
      ]
    },
    {
      "cell_type": "code",
      "execution_count": 2,
      "metadata": {
        "colab": {
          "base_uri": "https://localhost:8080/"
        },
        "id": "Qu_lkt5DKjqG",
        "outputId": "07e4fb3c-6a92-482e-bff3-24ff47d81590"
      },
      "outputs": [
        {
          "name": "stdout",
          "output_type": "stream",
          "text": [
            "Collecting flloat\n",
            "  Downloading flloat-0.3.0-py2.py3-none-any.whl (39 kB)\n",
            "Collecting lark-parser\n",
            "  Downloading lark_parser-0.12.0-py2.py3-none-any.whl (103 kB)\n",
            "\u001b[2K     \u001b[90m━━━━━━━━━━━━━━━━━━━━━━━━━━━━━━━━━━━━━━━\u001b[0m \u001b[32m103.5/103.5 kB\u001b[0m \u001b[31m5.0 MB/s\u001b[0m eta \u001b[36m0:00:00\u001b[0m\n",
            "\u001b[?25hCollecting pythomata>=0.3.2\n",
            "  Downloading pythomata-0.3.2-py2.py3-none-any.whl (23 kB)\n",
            "Collecting sympy\n",
            "  Downloading sympy-1.11.1-py3-none-any.whl (6.5 MB)\n",
            "\u001b[2K     \u001b[90m━━━━━━━━━━━━━━━━━━━━━━━━━━━━━━━━━━━━━━━━\u001b[0m \u001b[32m6.5/6.5 MB\u001b[0m \u001b[31m6.8 MB/s\u001b[0m eta \u001b[36m0:00:00\u001b[0ma \u001b[36m0:00:01\u001b[0mm\n",
            "\u001b[?25hRequirement already satisfied: graphviz in /Library/Frameworks/Python.framework/Versions/3.9/lib/python3.9/site-packages (from pythomata>=0.3.2->flloat) (0.20.1)\n",
            "Collecting mpmath>=0.19\n",
            "  Downloading mpmath-1.2.1-py3-none-any.whl (532 kB)\n",
            "\u001b[2K     \u001b[90m━━━━━━━━━━━━━━━━━━━━━━━━━━━━━━━━━━━━━━━\u001b[0m \u001b[32m532.6/532.6 kB\u001b[0m \u001b[31m8.4 MB/s\u001b[0m eta \u001b[36m0:00:00\u001b[0ma \u001b[36m0:00:01\u001b[0m\n",
            "\u001b[?25hInstalling collected packages: mpmath, lark-parser, sympy, pythomata, flloat\n",
            "Successfully installed flloat-0.3.0 lark-parser-0.12.0 mpmath-1.2.1 pythomata-0.3.2 sympy-1.11.1\n",
            "\n",
            "\u001b[1m[\u001b[0m\u001b[34;49mnotice\u001b[0m\u001b[1;39;49m]\u001b[0m\u001b[39;49m A new release of pip available: \u001b[0m\u001b[31;49m22.3.1\u001b[0m\u001b[39;49m -> \u001b[0m\u001b[32;49m23.0\u001b[0m\n",
            "\u001b[1m[\u001b[0m\u001b[34;49mnotice\u001b[0m\u001b[1;39;49m]\u001b[0m\u001b[39;49m To update, run: \u001b[0m\u001b[32;49mpip install --upgrade pip\u001b[0m\n"
          ]
        }
      ],
      "source": [
        "!pip install flloat"
      ]
    },
    {
      "cell_type": "code",
      "execution_count": 5,
      "metadata": {
        "colab": {
          "base_uri": "https://localhost:8080/",
          "height": 304
        },
        "id": "TfhTh1dvL3jC",
        "outputId": "96b0c342-d902-4dde-fb82-11eda400d4c0"
      },
      "outputs": [
        {
          "data": {
            "image/svg+xml": "<?xml version=\"1.0\" encoding=\"UTF-8\" standalone=\"no\"?>\n<!DOCTYPE svg PUBLIC \"-//W3C//DTD SVG 1.1//EN\"\n \"http://www.w3.org/Graphics/SVG/1.1/DTD/svg11.dtd\">\n<!-- Generated by graphviz version 2.43.0 (0)\n -->\n<!-- Title: %3 Pages: 1 -->\n<svg width=\"101pt\" height=\"212pt\"\n viewBox=\"0.00 0.00 101.00 212.00\" xmlns=\"http://www.w3.org/2000/svg\" xmlns:xlink=\"http://www.w3.org/1999/xlink\">\n<g id=\"graph0\" class=\"graph\" transform=\"scale(1 1) rotate(0) translate(4 208)\">\n<title>%3</title>\n<polygon fill=\"white\" stroke=\"transparent\" points=\"-4,4 -4,-208 97,-208 97,4 -4,4\"/>\n<!-- fake -->\n<g id=\"node1\" class=\"node\">\n<title>fake</title>\n</g>\n<!-- 0 -->\n<g id=\"node2\" class=\"node\">\n<title>0</title>\n<ellipse fill=\"none\" stroke=\"black\" cx=\"27\" cy=\"-113\" rx=\"27\" ry=\"18\"/>\n<text text-anchor=\"middle\" x=\"27\" y=\"-109.3\" font-family=\"Times,serif\" font-size=\"14.00\">0</text>\n</g>\n<!-- fake&#45;&gt;0 -->\n<g id=\"edge1\" class=\"edge\">\n<title>fake&#45;&gt;0</title>\n<path fill=\"none\" stroke=\"black\" stroke-width=\"2\" d=\"M27,-167.81C27,-159.79 27,-150.05 27,-141.07\"/>\n<polygon fill=\"black\" stroke=\"black\" stroke-width=\"2\" points=\"30.5,-141.03 27,-131.03 23.5,-141.03 30.5,-141.03\"/>\n</g>\n<!-- 1 -->\n<g id=\"node3\" class=\"node\">\n<title>1</title>\n<ellipse fill=\"none\" stroke=\"black\" cx=\"27\" cy=\"-22\" rx=\"18\" ry=\"18\"/>\n<ellipse fill=\"none\" stroke=\"black\" cx=\"27\" cy=\"-22\" rx=\"22\" ry=\"22\"/>\n<text text-anchor=\"middle\" x=\"27\" y=\"-18.3\" font-family=\"Times,serif\" font-size=\"14.00\">1</text>\n</g>\n<!-- 0&#45;&gt;1 -->\n<g id=\"edge3\" class=\"edge\">\n<title>0&#45;&gt;1</title>\n<path fill=\"none\" stroke=\"black\" d=\"M27,-94.84C27,-83.44 27,-68.13 27,-54.58\"/>\n<polygon fill=\"black\" stroke=\"black\" points=\"30.5,-54.19 27,-44.19 23.5,-54.19 30.5,-54.19\"/>\n<text text-anchor=\"middle\" x=\"40\" y=\"-65.8\" font-family=\"Times,serif\" font-size=\"14.00\">True</text>\n</g>\n<!-- 1&#45;&gt;1 -->\n<g id=\"edge2\" class=\"edge\">\n<title>1&#45;&gt;1</title>\n<path fill=\"none\" stroke=\"black\" d=\"M47.58,-30.37C57.84,-31.53 67,-28.74 67,-22 67,-17.68 63.24,-14.99 57.84,-13.91\"/>\n<polygon fill=\"black\" stroke=\"black\" points=\"57.67,-10.41 47.58,-13.63 57.48,-17.4 57.67,-10.41\"/>\n<text text-anchor=\"middle\" x=\"80\" y=\"-18.3\" font-family=\"Times,serif\" font-size=\"14.00\">True</text>\n</g>\n</g>\n</svg>\n",
            "text/plain": [
              "<graphviz.dot.Digraph at 0x7f755ff285b0>"
            ]
          },
          "execution_count": 5,
          "metadata": {},
          "output_type": "execute_result"
        }
      ],
      "source": [
        "from flloat.parser.ltlf import LTLfParser\n",
        "\n",
        "# parse the formula\n",
        "parser = LTLfParser()\n",
        "formula = \"F (((p->q) & (p->!q))->!p)\"\n",
        "parsed_formula = parser(formula)\n",
        "dfa = parsed_formula.to_automaton()\n",
        "graph = dfa.to_graphviz()\n",
        "graph"
      ]
    },
    {
      "cell_type": "code",
      "execution_count": null,
      "metadata": {
        "id": "K86-bbKyPY6W"
      },
      "outputs": [],
      "source": [
        "from pickle import TRUE\n",
        "test = [{\"p\": False, \"q\": False},\n",
        "        {\"p\": False, \"q\": True},\n",
        "        {\"p\": True, \"q\": False},\n",
        "        {\"p\": True, \"q\": True}]\n",
        "assert dfa.accepts(test)"
      ]
    },
    {
      "cell_type": "markdown",
      "metadata": {
        "id": "eoEHzUAwPu5F"
      },
      "source": [
        "### **EXERCISE 2.** \n",
        "\n",
        "Using the module FLLOAT, verify the **Negation elimination:** from ¬ p , infer ( p → r ). "
      ]
    },
    {
      "cell_type": "code",
      "execution_count": 7,
      "metadata": {
        "colab": {
          "base_uri": "https://localhost:8080/",
          "height": 304
        },
        "id": "HOQgAqsOP7ak",
        "outputId": "541a0913-94a9-4dd1-8949-ab852c2d91d3"
      },
      "outputs": [
        {
          "data": {
            "image/svg+xml": "<?xml version=\"1.0\" encoding=\"UTF-8\" standalone=\"no\"?>\n<!DOCTYPE svg PUBLIC \"-//W3C//DTD SVG 1.1//EN\"\n \"http://www.w3.org/Graphics/SVG/1.1/DTD/svg11.dtd\">\n<!-- Generated by graphviz version 2.43.0 (0)\n -->\n<!-- Title: %3 Pages: 1 -->\n<svg width=\"101pt\" height=\"212pt\"\n viewBox=\"0.00 0.00 101.00 212.00\" xmlns=\"http://www.w3.org/2000/svg\" xmlns:xlink=\"http://www.w3.org/1999/xlink\">\n<g id=\"graph0\" class=\"graph\" transform=\"scale(1 1) rotate(0) translate(4 208)\">\n<title>%3</title>\n<polygon fill=\"white\" stroke=\"transparent\" points=\"-4,4 -4,-208 97,-208 97,4 -4,4\"/>\n<!-- fake -->\n<g id=\"node1\" class=\"node\">\n<title>fake</title>\n</g>\n<!-- 0 -->\n<g id=\"node2\" class=\"node\">\n<title>0</title>\n<ellipse fill=\"none\" stroke=\"black\" cx=\"27\" cy=\"-113\" rx=\"27\" ry=\"18\"/>\n<text text-anchor=\"middle\" x=\"27\" y=\"-109.3\" font-family=\"Times,serif\" font-size=\"14.00\">0</text>\n</g>\n<!-- fake&#45;&gt;0 -->\n<g id=\"edge1\" class=\"edge\">\n<title>fake&#45;&gt;0</title>\n<path fill=\"none\" stroke=\"black\" stroke-width=\"2\" d=\"M27,-167.81C27,-159.79 27,-150.05 27,-141.07\"/>\n<polygon fill=\"black\" stroke=\"black\" stroke-width=\"2\" points=\"30.5,-141.03 27,-131.03 23.5,-141.03 30.5,-141.03\"/>\n</g>\n<!-- 1 -->\n<g id=\"node3\" class=\"node\">\n<title>1</title>\n<ellipse fill=\"none\" stroke=\"black\" cx=\"27\" cy=\"-22\" rx=\"18\" ry=\"18\"/>\n<ellipse fill=\"none\" stroke=\"black\" cx=\"27\" cy=\"-22\" rx=\"22\" ry=\"22\"/>\n<text text-anchor=\"middle\" x=\"27\" y=\"-18.3\" font-family=\"Times,serif\" font-size=\"14.00\">1</text>\n</g>\n<!-- 0&#45;&gt;1 -->\n<g id=\"edge3\" class=\"edge\">\n<title>0&#45;&gt;1</title>\n<path fill=\"none\" stroke=\"black\" d=\"M27,-94.84C27,-83.44 27,-68.13 27,-54.58\"/>\n<polygon fill=\"black\" stroke=\"black\" points=\"30.5,-54.19 27,-44.19 23.5,-54.19 30.5,-54.19\"/>\n<text text-anchor=\"middle\" x=\"40\" y=\"-65.8\" font-family=\"Times,serif\" font-size=\"14.00\">True</text>\n</g>\n<!-- 1&#45;&gt;1 -->\n<g id=\"edge2\" class=\"edge\">\n<title>1&#45;&gt;1</title>\n<path fill=\"none\" stroke=\"black\" d=\"M47.58,-30.37C57.84,-31.53 67,-28.74 67,-22 67,-17.68 63.24,-14.99 57.84,-13.91\"/>\n<polygon fill=\"black\" stroke=\"black\" points=\"57.67,-10.41 47.58,-13.63 57.48,-17.4 57.67,-10.41\"/>\n<text text-anchor=\"middle\" x=\"80\" y=\"-18.3\" font-family=\"Times,serif\" font-size=\"14.00\">True</text>\n</g>\n</g>\n</svg>\n",
            "text/plain": [
              "<graphviz.dot.Digraph at 0x7f755fd5e280>"
            ]
          },
          "execution_count": 7,
          "metadata": {},
          "output_type": "execute_result"
        }
      ],
      "source": [
        "#TYPE YOUR CODE HERE\n",
        "from flloat.parser.ltlf import LTLfParser\n",
        "\n",
        "# parse the formula\n",
        "parser = LTLfParser()\n",
        "formula = \"F ((!p ->(p -> r)))\"\n",
        "parsed_formula = parser(formula)\n",
        "dfa = parsed_formula.to_automaton()\n",
        "graph = dfa.to_graphviz()\n",
        "graph"
      ]
    },
    {
      "cell_type": "markdown",
      "metadata": {
        "id": "Fj8GHvG0u9jW"
      },
      "source": [
        "### **EXERCISE 3.** \n",
        "\n",
        "Using the module FLLOAT, verify the **Double negation elimination:** from ¬ ¬ p, infer p."
      ]
    },
    {
      "cell_type": "code",
      "execution_count": 8,
      "metadata": {
        "colab": {
          "base_uri": "https://localhost:8080/",
          "height": 304
        },
        "id": "jbhgFTwru8zp",
        "outputId": "4ccfcfa9-7ef8-4f8d-e74b-7e24f45923c6"
      },
      "outputs": [
        {
          "data": {
            "image/svg+xml": "<?xml version=\"1.0\" encoding=\"UTF-8\" standalone=\"no\"?>\n<!DOCTYPE svg PUBLIC \"-//W3C//DTD SVG 1.1//EN\"\n \"http://www.w3.org/Graphics/SVG/1.1/DTD/svg11.dtd\">\n<!-- Generated by graphviz version 2.43.0 (0)\n -->\n<!-- Title: %3 Pages: 1 -->\n<svg width=\"101pt\" height=\"212pt\"\n viewBox=\"0.00 0.00 101.00 212.00\" xmlns=\"http://www.w3.org/2000/svg\" xmlns:xlink=\"http://www.w3.org/1999/xlink\">\n<g id=\"graph0\" class=\"graph\" transform=\"scale(1 1) rotate(0) translate(4 208)\">\n<title>%3</title>\n<polygon fill=\"white\" stroke=\"transparent\" points=\"-4,4 -4,-208 97,-208 97,4 -4,4\"/>\n<!-- fake -->\n<g id=\"node1\" class=\"node\">\n<title>fake</title>\n</g>\n<!-- 0 -->\n<g id=\"node2\" class=\"node\">\n<title>0</title>\n<ellipse fill=\"none\" stroke=\"black\" cx=\"27\" cy=\"-113\" rx=\"27\" ry=\"18\"/>\n<text text-anchor=\"middle\" x=\"27\" y=\"-109.3\" font-family=\"Times,serif\" font-size=\"14.00\">0</text>\n</g>\n<!-- fake&#45;&gt;0 -->\n<g id=\"edge1\" class=\"edge\">\n<title>fake&#45;&gt;0</title>\n<path fill=\"none\" stroke=\"black\" stroke-width=\"2\" d=\"M27,-167.81C27,-159.79 27,-150.05 27,-141.07\"/>\n<polygon fill=\"black\" stroke=\"black\" stroke-width=\"2\" points=\"30.5,-141.03 27,-131.03 23.5,-141.03 30.5,-141.03\"/>\n</g>\n<!-- 1 -->\n<g id=\"node3\" class=\"node\">\n<title>1</title>\n<ellipse fill=\"none\" stroke=\"black\" cx=\"27\" cy=\"-22\" rx=\"18\" ry=\"18\"/>\n<ellipse fill=\"none\" stroke=\"black\" cx=\"27\" cy=\"-22\" rx=\"22\" ry=\"22\"/>\n<text text-anchor=\"middle\" x=\"27\" y=\"-18.3\" font-family=\"Times,serif\" font-size=\"14.00\">1</text>\n</g>\n<!-- 0&#45;&gt;1 -->\n<g id=\"edge3\" class=\"edge\">\n<title>0&#45;&gt;1</title>\n<path fill=\"none\" stroke=\"black\" d=\"M27,-94.84C27,-83.44 27,-68.13 27,-54.58\"/>\n<polygon fill=\"black\" stroke=\"black\" points=\"30.5,-54.19 27,-44.19 23.5,-54.19 30.5,-54.19\"/>\n<text text-anchor=\"middle\" x=\"40\" y=\"-65.8\" font-family=\"Times,serif\" font-size=\"14.00\">True</text>\n</g>\n<!-- 1&#45;&gt;1 -->\n<g id=\"edge2\" class=\"edge\">\n<title>1&#45;&gt;1</title>\n<path fill=\"none\" stroke=\"black\" d=\"M47.58,-30.37C57.84,-31.53 67,-28.74 67,-22 67,-17.68 63.24,-14.99 57.84,-13.91\"/>\n<polygon fill=\"black\" stroke=\"black\" points=\"57.67,-10.41 47.58,-13.63 57.48,-17.4 57.67,-10.41\"/>\n<text text-anchor=\"middle\" x=\"80\" y=\"-18.3\" font-family=\"Times,serif\" font-size=\"14.00\">True</text>\n</g>\n</g>\n</svg>\n",
            "text/plain": [
              "<graphviz.dot.Digraph at 0x7f755ffaf2e0>"
            ]
          },
          "execution_count": 8,
          "metadata": {},
          "output_type": "execute_result"
        }
      ],
      "source": [
        "#TYPE YOUR CODE HERE\n",
        "from flloat.parser.ltlf import LTLfParser\n",
        "\n",
        "# parse the formula\n",
        "parser = LTLfParser()\n",
        "formula = \"F (p -> p)\"\n",
        "parsed_formula = parser(formula)\n",
        "dfa = parsed_formula.to_automaton()\n",
        "graph = dfa.to_graphviz()\n",
        "graph"
      ]
    },
    {
      "cell_type": "markdown",
      "metadata": {
        "id": "EzfMlchAvwUu"
      },
      "source": [
        "### **EXERCISE 4.** \n",
        "\n",
        "Using the module FLLOAT, verify the **Conjunction introduction:** from p and q, infer ( p ∧ q )."
      ]
    },
    {
      "cell_type": "code",
      "execution_count": 9,
      "metadata": {
        "colab": {
          "base_uri": "https://localhost:8080/",
          "height": 304
        },
        "id": "iQsBuzPKv_CR",
        "outputId": "79291423-5e7c-48e4-bd16-a350abb89d50"
      },
      "outputs": [
        {
          "data": {
            "image/svg+xml": "<?xml version=\"1.0\" encoding=\"UTF-8\" standalone=\"no\"?>\n<!DOCTYPE svg PUBLIC \"-//W3C//DTD SVG 1.1//EN\"\n \"http://www.w3.org/Graphics/SVG/1.1/DTD/svg11.dtd\">\n<!-- Generated by graphviz version 2.43.0 (0)\n -->\n<!-- Title: %3 Pages: 1 -->\n<svg width=\"101pt\" height=\"212pt\"\n viewBox=\"0.00 0.00 101.00 212.00\" xmlns=\"http://www.w3.org/2000/svg\" xmlns:xlink=\"http://www.w3.org/1999/xlink\">\n<g id=\"graph0\" class=\"graph\" transform=\"scale(1 1) rotate(0) translate(4 208)\">\n<title>%3</title>\n<polygon fill=\"white\" stroke=\"transparent\" points=\"-4,4 -4,-208 97,-208 97,4 -4,4\"/>\n<!-- fake -->\n<g id=\"node1\" class=\"node\">\n<title>fake</title>\n</g>\n<!-- 0 -->\n<g id=\"node2\" class=\"node\">\n<title>0</title>\n<ellipse fill=\"none\" stroke=\"black\" cx=\"27\" cy=\"-113\" rx=\"27\" ry=\"18\"/>\n<text text-anchor=\"middle\" x=\"27\" y=\"-109.3\" font-family=\"Times,serif\" font-size=\"14.00\">0</text>\n</g>\n<!-- fake&#45;&gt;0 -->\n<g id=\"edge1\" class=\"edge\">\n<title>fake&#45;&gt;0</title>\n<path fill=\"none\" stroke=\"black\" stroke-width=\"2\" d=\"M27,-167.81C27,-159.79 27,-150.05 27,-141.07\"/>\n<polygon fill=\"black\" stroke=\"black\" stroke-width=\"2\" points=\"30.5,-141.03 27,-131.03 23.5,-141.03 30.5,-141.03\"/>\n</g>\n<!-- 1 -->\n<g id=\"node3\" class=\"node\">\n<title>1</title>\n<ellipse fill=\"none\" stroke=\"black\" cx=\"27\" cy=\"-22\" rx=\"18\" ry=\"18\"/>\n<ellipse fill=\"none\" stroke=\"black\" cx=\"27\" cy=\"-22\" rx=\"22\" ry=\"22\"/>\n<text text-anchor=\"middle\" x=\"27\" y=\"-18.3\" font-family=\"Times,serif\" font-size=\"14.00\">1</text>\n</g>\n<!-- 0&#45;&gt;1 -->\n<g id=\"edge3\" class=\"edge\">\n<title>0&#45;&gt;1</title>\n<path fill=\"none\" stroke=\"black\" d=\"M27,-94.84C27,-83.44 27,-68.13 27,-54.58\"/>\n<polygon fill=\"black\" stroke=\"black\" points=\"30.5,-54.19 27,-44.19 23.5,-54.19 30.5,-54.19\"/>\n<text text-anchor=\"middle\" x=\"40\" y=\"-65.8\" font-family=\"Times,serif\" font-size=\"14.00\">True</text>\n</g>\n<!-- 1&#45;&gt;1 -->\n<g id=\"edge2\" class=\"edge\">\n<title>1&#45;&gt;1</title>\n<path fill=\"none\" stroke=\"black\" d=\"M47.58,-30.37C57.84,-31.53 67,-28.74 67,-22 67,-17.68 63.24,-14.99 57.84,-13.91\"/>\n<polygon fill=\"black\" stroke=\"black\" points=\"57.67,-10.41 47.58,-13.63 57.48,-17.4 57.67,-10.41\"/>\n<text text-anchor=\"middle\" x=\"80\" y=\"-18.3\" font-family=\"Times,serif\" font-size=\"14.00\">True</text>\n</g>\n</g>\n</svg>\n",
            "text/plain": [
              "<graphviz.dot.Digraph at 0x7f755fd9e0d0>"
            ]
          },
          "execution_count": 9,
          "metadata": {},
          "output_type": "execute_result"
        }
      ],
      "source": [
        "#TYPE YOUR CODE HERE\n",
        "from flloat.parser.ltlf import LTLfParser\n",
        "\n",
        "# parse the formula\n",
        "parser = LTLfParser()\n",
        "formula = \"F ((p & q) -> (p & q))\"\n",
        "parsed_formula = parser(formula)\n",
        "dfa = parsed_formula.to_automaton()\n",
        "graph = dfa.to_graphviz()\n",
        "graph"
      ]
    },
    {
      "cell_type": "markdown",
      "metadata": {
        "id": "keKsSkvVT5Xn"
      },
      "source": [
        "### **HOMEWORK** \n",
        "\n",
        "Using the module FLLOAT, verify all the remaining rules:\n",
        "\n",
        "* **Conjunction elimination:** from ( p ∧ q ), infer p. from ( p ∧ q ) , infer q.\n",
        "    \n",
        "* **Disjunction introduction:** from p, infer ( p ∨ q ) . from q, infer ( p ∨ q ) .\n",
        "   \n",
        "* **Disjunction elimination:** from ( p ∨ q ) and ( p → r )  and ( q → r ) , infer r.\n",
        "    \n",
        "* **Biconditional introduction:** from ( p → q )  and ( q → p ) , infer ( p ↔ q ).\n",
        "    \n",
        "* **Biconditional elimination:** from ( p ↔ q ) , infer ( p → q ) . from ( p ↔ q ) , infer ( q → p ) .\n",
        "    \n",
        "* **Modus ponens (conditional elimination):** from and ( p → q ) , infer q.\n",
        "    \n",
        "* **Conditional proof (conditional introduction):** from [accepting p allows a proof of q], infer ( p → q ) ."
      ]
    },
    {
      "cell_type": "code",
      "execution_count": null,
      "metadata": {
        "colab": {
          "base_uri": "https://localhost:8080/",
          "height": 304
        },
        "id": "BsBI3bZ9Usfn",
        "outputId": "c4ccff39-e6ea-440b-b163-fb4a8446363f"
      },
      "outputs": [
        {
          "data": {
            "image/svg+xml": "<?xml version=\"1.0\" encoding=\"UTF-8\" standalone=\"no\"?>\n<!DOCTYPE svg PUBLIC \"-//W3C//DTD SVG 1.1//EN\"\n \"http://www.w3.org/Graphics/SVG/1.1/DTD/svg11.dtd\">\n<!-- Generated by graphviz version 2.43.0 (0)\n -->\n<!-- Title: %3 Pages: 1 -->\n<svg width=\"101pt\" height=\"212pt\"\n viewBox=\"0.00 0.00 101.00 212.00\" xmlns=\"http://www.w3.org/2000/svg\" xmlns:xlink=\"http://www.w3.org/1999/xlink\">\n<g id=\"graph0\" class=\"graph\" transform=\"scale(1 1) rotate(0) translate(4 208)\">\n<title>%3</title>\n<polygon fill=\"white\" stroke=\"transparent\" points=\"-4,4 -4,-208 97,-208 97,4 -4,4\"/>\n<!-- fake -->\n<g id=\"node1\" class=\"node\">\n<title>fake</title>\n</g>\n<!-- 0 -->\n<g id=\"node2\" class=\"node\">\n<title>0</title>\n<ellipse fill=\"none\" stroke=\"black\" cx=\"27\" cy=\"-113\" rx=\"27\" ry=\"18\"/>\n<text text-anchor=\"middle\" x=\"27\" y=\"-109.3\" font-family=\"Times,serif\" font-size=\"14.00\">0</text>\n</g>\n<!-- fake&#45;&gt;0 -->\n<g id=\"edge1\" class=\"edge\">\n<title>fake&#45;&gt;0</title>\n<path fill=\"none\" stroke=\"black\" stroke-width=\"2\" d=\"M27,-167.81C27,-159.79 27,-150.05 27,-141.07\"/>\n<polygon fill=\"black\" stroke=\"black\" stroke-width=\"2\" points=\"30.5,-141.03 27,-131.03 23.5,-141.03 30.5,-141.03\"/>\n</g>\n<!-- 1 -->\n<g id=\"node3\" class=\"node\">\n<title>1</title>\n<ellipse fill=\"none\" stroke=\"black\" cx=\"27\" cy=\"-22\" rx=\"18\" ry=\"18\"/>\n<ellipse fill=\"none\" stroke=\"black\" cx=\"27\" cy=\"-22\" rx=\"22\" ry=\"22\"/>\n<text text-anchor=\"middle\" x=\"27\" y=\"-18.3\" font-family=\"Times,serif\" font-size=\"14.00\">1</text>\n</g>\n<!-- 0&#45;&gt;1 -->\n<g id=\"edge3\" class=\"edge\">\n<title>0&#45;&gt;1</title>\n<path fill=\"none\" stroke=\"black\" d=\"M27,-94.84C27,-83.44 27,-68.13 27,-54.58\"/>\n<polygon fill=\"black\" stroke=\"black\" points=\"30.5,-54.19 27,-44.19 23.5,-54.19 30.5,-54.19\"/>\n<text text-anchor=\"middle\" x=\"40\" y=\"-65.8\" font-family=\"Times,serif\" font-size=\"14.00\">True</text>\n</g>\n<!-- 1&#45;&gt;1 -->\n<g id=\"edge2\" class=\"edge\">\n<title>1&#45;&gt;1</title>\n<path fill=\"none\" stroke=\"black\" d=\"M47.58,-30.37C57.84,-31.53 67,-28.74 67,-22 67,-17.68 63.24,-14.99 57.84,-13.91\"/>\n<polygon fill=\"black\" stroke=\"black\" points=\"57.67,-10.41 47.58,-13.63 57.48,-17.4 57.67,-10.41\"/>\n<text text-anchor=\"middle\" x=\"80\" y=\"-18.3\" font-family=\"Times,serif\" font-size=\"14.00\">True</text>\n</g>\n</g>\n</svg>\n",
            "text/plain": [
              "<graphviz.dot.Digraph at 0x7f31a3fd0dc0>"
            ]
          },
          "execution_count": 6,
          "metadata": {},
          "output_type": "execute_result"
        }
      ],
      "source": [
        "#Conjunction elimination: from ( p ∧ q ), infer p. from ( p ∧ q ) , infer q.\n",
        "#TYPE YOUR IMPLEMENTATION FOR CONJUCTION ELIMINATION HERE\n",
        "from flloat.parser.ltlf import LTLfParser\n",
        "\n",
        "# parse the formula\n",
        "parser = LTLfParser()\n",
        "formula = \"F ((p & q) -> p)\"\n",
        "parsed_formula = parser(formula)\n",
        "dfa = parsed_formula.to_automaton()\n",
        "graph = dfa.to_graphviz()\n",
        "graph"
      ]
    },
    {
      "cell_type": "code",
      "execution_count": null,
      "metadata": {
        "colab": {
          "base_uri": "https://localhost:8080/",
          "height": 304
        },
        "id": "xkHqpac-Xgys",
        "outputId": "248d05bb-aa5f-4d9a-f581-453390bd5fa1"
      },
      "outputs": [
        {
          "data": {
            "image/svg+xml": "<?xml version=\"1.0\" encoding=\"UTF-8\" standalone=\"no\"?>\n<!DOCTYPE svg PUBLIC \"-//W3C//DTD SVG 1.1//EN\"\n \"http://www.w3.org/Graphics/SVG/1.1/DTD/svg11.dtd\">\n<!-- Generated by graphviz version 2.43.0 (0)\n -->\n<!-- Title: %3 Pages: 1 -->\n<svg width=\"101pt\" height=\"212pt\"\n viewBox=\"0.00 0.00 101.00 212.00\" xmlns=\"http://www.w3.org/2000/svg\" xmlns:xlink=\"http://www.w3.org/1999/xlink\">\n<g id=\"graph0\" class=\"graph\" transform=\"scale(1 1) rotate(0) translate(4 208)\">\n<title>%3</title>\n<polygon fill=\"white\" stroke=\"transparent\" points=\"-4,4 -4,-208 97,-208 97,4 -4,4\"/>\n<!-- fake -->\n<g id=\"node1\" class=\"node\">\n<title>fake</title>\n</g>\n<!-- 0 -->\n<g id=\"node2\" class=\"node\">\n<title>0</title>\n<ellipse fill=\"none\" stroke=\"black\" cx=\"27\" cy=\"-113\" rx=\"27\" ry=\"18\"/>\n<text text-anchor=\"middle\" x=\"27\" y=\"-109.3\" font-family=\"Times,serif\" font-size=\"14.00\">0</text>\n</g>\n<!-- fake&#45;&gt;0 -->\n<g id=\"edge1\" class=\"edge\">\n<title>fake&#45;&gt;0</title>\n<path fill=\"none\" stroke=\"black\" stroke-width=\"2\" d=\"M27,-167.81C27,-159.79 27,-150.05 27,-141.07\"/>\n<polygon fill=\"black\" stroke=\"black\" stroke-width=\"2\" points=\"30.5,-141.03 27,-131.03 23.5,-141.03 30.5,-141.03\"/>\n</g>\n<!-- 1 -->\n<g id=\"node3\" class=\"node\">\n<title>1</title>\n<ellipse fill=\"none\" stroke=\"black\" cx=\"27\" cy=\"-22\" rx=\"18\" ry=\"18\"/>\n<ellipse fill=\"none\" stroke=\"black\" cx=\"27\" cy=\"-22\" rx=\"22\" ry=\"22\"/>\n<text text-anchor=\"middle\" x=\"27\" y=\"-18.3\" font-family=\"Times,serif\" font-size=\"14.00\">1</text>\n</g>\n<!-- 0&#45;&gt;1 -->\n<g id=\"edge3\" class=\"edge\">\n<title>0&#45;&gt;1</title>\n<path fill=\"none\" stroke=\"black\" d=\"M27,-94.84C27,-83.44 27,-68.13 27,-54.58\"/>\n<polygon fill=\"black\" stroke=\"black\" points=\"30.5,-54.19 27,-44.19 23.5,-54.19 30.5,-54.19\"/>\n<text text-anchor=\"middle\" x=\"40\" y=\"-65.8\" font-family=\"Times,serif\" font-size=\"14.00\">True</text>\n</g>\n<!-- 1&#45;&gt;1 -->\n<g id=\"edge2\" class=\"edge\">\n<title>1&#45;&gt;1</title>\n<path fill=\"none\" stroke=\"black\" d=\"M47.58,-30.37C57.84,-31.53 67,-28.74 67,-22 67,-17.68 63.24,-14.99 57.84,-13.91\"/>\n<polygon fill=\"black\" stroke=\"black\" points=\"57.67,-10.41 47.58,-13.63 57.48,-17.4 57.67,-10.41\"/>\n<text text-anchor=\"middle\" x=\"80\" y=\"-18.3\" font-family=\"Times,serif\" font-size=\"14.00\">True</text>\n</g>\n</g>\n</svg>\n",
            "text/plain": [
              "<graphviz.dot.Digraph at 0x7f31bc2ef0a0>"
            ]
          },
          "execution_count": 5,
          "metadata": {},
          "output_type": "execute_result"
        }
      ],
      "source": [
        "#Conjunction elimination: from ( p ∧ q ), infer p. from ( p ∧ q ) , infer q.\n",
        "#TYPE YOUR IMPLEMENTATION FOR CONJUCTION ELIMINATION HERE\n",
        "from flloat.parser.ltlf import LTLfParser\n",
        "\n",
        "# parse the formula\n",
        "parser = LTLfParser()\n",
        "formula = \"F ((p & q) -> q)\"\n",
        "parsed_formula = parser(formula)\n",
        "dfa = parsed_formula.to_automaton()\n",
        "graph = dfa.to_graphviz()\n",
        "graph"
      ]
    },
    {
      "cell_type": "code",
      "execution_count": null,
      "metadata": {
        "colab": {
          "base_uri": "https://localhost:8080/",
          "height": 304
        },
        "id": "mO6HgduF-Xxf",
        "outputId": "f232dbb4-30ad-4f72-9e37-b05071620c9f"
      },
      "outputs": [
        {
          "data": {
            "image/svg+xml": "<?xml version=\"1.0\" encoding=\"UTF-8\" standalone=\"no\"?>\n<!DOCTYPE svg PUBLIC \"-//W3C//DTD SVG 1.1//EN\"\n \"http://www.w3.org/Graphics/SVG/1.1/DTD/svg11.dtd\">\n<!-- Generated by graphviz version 2.43.0 (0)\n -->\n<!-- Title: %3 Pages: 1 -->\n<svg width=\"101pt\" height=\"212pt\"\n viewBox=\"0.00 0.00 101.00 212.00\" xmlns=\"http://www.w3.org/2000/svg\" xmlns:xlink=\"http://www.w3.org/1999/xlink\">\n<g id=\"graph0\" class=\"graph\" transform=\"scale(1 1) rotate(0) translate(4 208)\">\n<title>%3</title>\n<polygon fill=\"white\" stroke=\"transparent\" points=\"-4,4 -4,-208 97,-208 97,4 -4,4\"/>\n<!-- fake -->\n<g id=\"node1\" class=\"node\">\n<title>fake</title>\n</g>\n<!-- 0 -->\n<g id=\"node2\" class=\"node\">\n<title>0</title>\n<ellipse fill=\"none\" stroke=\"black\" cx=\"27\" cy=\"-113\" rx=\"27\" ry=\"18\"/>\n<text text-anchor=\"middle\" x=\"27\" y=\"-109.3\" font-family=\"Times,serif\" font-size=\"14.00\">0</text>\n</g>\n<!-- fake&#45;&gt;0 -->\n<g id=\"edge1\" class=\"edge\">\n<title>fake&#45;&gt;0</title>\n<path fill=\"none\" stroke=\"black\" stroke-width=\"2\" d=\"M27,-167.81C27,-159.79 27,-150.05 27,-141.07\"/>\n<polygon fill=\"black\" stroke=\"black\" stroke-width=\"2\" points=\"30.5,-141.03 27,-131.03 23.5,-141.03 30.5,-141.03\"/>\n</g>\n<!-- 1 -->\n<g id=\"node3\" class=\"node\">\n<title>1</title>\n<ellipse fill=\"none\" stroke=\"black\" cx=\"27\" cy=\"-22\" rx=\"18\" ry=\"18\"/>\n<ellipse fill=\"none\" stroke=\"black\" cx=\"27\" cy=\"-22\" rx=\"22\" ry=\"22\"/>\n<text text-anchor=\"middle\" x=\"27\" y=\"-18.3\" font-family=\"Times,serif\" font-size=\"14.00\">1</text>\n</g>\n<!-- 0&#45;&gt;1 -->\n<g id=\"edge3\" class=\"edge\">\n<title>0&#45;&gt;1</title>\n<path fill=\"none\" stroke=\"black\" d=\"M27,-94.84C27,-83.44 27,-68.13 27,-54.58\"/>\n<polygon fill=\"black\" stroke=\"black\" points=\"30.5,-54.19 27,-44.19 23.5,-54.19 30.5,-54.19\"/>\n<text text-anchor=\"middle\" x=\"40\" y=\"-65.8\" font-family=\"Times,serif\" font-size=\"14.00\">True</text>\n</g>\n<!-- 1&#45;&gt;1 -->\n<g id=\"edge2\" class=\"edge\">\n<title>1&#45;&gt;1</title>\n<path fill=\"none\" stroke=\"black\" d=\"M47.58,-30.37C57.84,-31.53 67,-28.74 67,-22 67,-17.68 63.24,-14.99 57.84,-13.91\"/>\n<polygon fill=\"black\" stroke=\"black\" points=\"57.67,-10.41 47.58,-13.63 57.48,-17.4 57.67,-10.41\"/>\n<text text-anchor=\"middle\" x=\"80\" y=\"-18.3\" font-family=\"Times,serif\" font-size=\"14.00\">True</text>\n</g>\n</g>\n</svg>\n",
            "text/plain": [
              "<graphviz.dot.Digraph at 0x7f31bc258dc0>"
            ]
          },
          "execution_count": 7,
          "metadata": {},
          "output_type": "execute_result"
        }
      ],
      "source": [
        "#Disjunction introduction: from p, infer ( p ∨ q ) . from q, infer ( p ∨ q ) .\n",
        "#TYPE YOUR IMPLEMENTATION FOR CONJUCTION ELIMINATION HERE\n",
        "from flloat.parser.ltlf import LTLfParser\n",
        "\n",
        "# parse the formula\n",
        "parser = LTLfParser()\n",
        "formula = \"F (p -> (p | q))\"\n",
        "parsed_formula = parser(formula)\n",
        "dfa = parsed_formula.to_automaton()\n",
        "graph = dfa.to_graphviz()\n",
        "graph"
      ]
    },
    {
      "cell_type": "code",
      "execution_count": null,
      "metadata": {
        "colab": {
          "base_uri": "https://localhost:8080/",
          "height": 304
        },
        "id": "61t6DdFBYsEY",
        "outputId": "03a48eb0-99f0-4b81-9b91-f74d6b0d030b"
      },
      "outputs": [
        {
          "data": {
            "image/svg+xml": "<?xml version=\"1.0\" encoding=\"UTF-8\" standalone=\"no\"?>\n<!DOCTYPE svg PUBLIC \"-//W3C//DTD SVG 1.1//EN\"\n \"http://www.w3.org/Graphics/SVG/1.1/DTD/svg11.dtd\">\n<!-- Generated by graphviz version 2.43.0 (0)\n -->\n<!-- Title: %3 Pages: 1 -->\n<svg width=\"101pt\" height=\"212pt\"\n viewBox=\"0.00 0.00 101.00 212.00\" xmlns=\"http://www.w3.org/2000/svg\" xmlns:xlink=\"http://www.w3.org/1999/xlink\">\n<g id=\"graph0\" class=\"graph\" transform=\"scale(1 1) rotate(0) translate(4 208)\">\n<title>%3</title>\n<polygon fill=\"white\" stroke=\"transparent\" points=\"-4,4 -4,-208 97,-208 97,4 -4,4\"/>\n<!-- fake -->\n<g id=\"node1\" class=\"node\">\n<title>fake</title>\n</g>\n<!-- 0 -->\n<g id=\"node2\" class=\"node\">\n<title>0</title>\n<ellipse fill=\"none\" stroke=\"black\" cx=\"27\" cy=\"-113\" rx=\"27\" ry=\"18\"/>\n<text text-anchor=\"middle\" x=\"27\" y=\"-109.3\" font-family=\"Times,serif\" font-size=\"14.00\">0</text>\n</g>\n<!-- fake&#45;&gt;0 -->\n<g id=\"edge1\" class=\"edge\">\n<title>fake&#45;&gt;0</title>\n<path fill=\"none\" stroke=\"black\" stroke-width=\"2\" d=\"M27,-167.81C27,-159.79 27,-150.05 27,-141.07\"/>\n<polygon fill=\"black\" stroke=\"black\" stroke-width=\"2\" points=\"30.5,-141.03 27,-131.03 23.5,-141.03 30.5,-141.03\"/>\n</g>\n<!-- 1 -->\n<g id=\"node3\" class=\"node\">\n<title>1</title>\n<ellipse fill=\"none\" stroke=\"black\" cx=\"27\" cy=\"-22\" rx=\"18\" ry=\"18\"/>\n<ellipse fill=\"none\" stroke=\"black\" cx=\"27\" cy=\"-22\" rx=\"22\" ry=\"22\"/>\n<text text-anchor=\"middle\" x=\"27\" y=\"-18.3\" font-family=\"Times,serif\" font-size=\"14.00\">1</text>\n</g>\n<!-- 0&#45;&gt;1 -->\n<g id=\"edge3\" class=\"edge\">\n<title>0&#45;&gt;1</title>\n<path fill=\"none\" stroke=\"black\" d=\"M27,-94.84C27,-83.44 27,-68.13 27,-54.58\"/>\n<polygon fill=\"black\" stroke=\"black\" points=\"30.5,-54.19 27,-44.19 23.5,-54.19 30.5,-54.19\"/>\n<text text-anchor=\"middle\" x=\"40\" y=\"-65.8\" font-family=\"Times,serif\" font-size=\"14.00\">True</text>\n</g>\n<!-- 1&#45;&gt;1 -->\n<g id=\"edge2\" class=\"edge\">\n<title>1&#45;&gt;1</title>\n<path fill=\"none\" stroke=\"black\" d=\"M47.58,-30.37C57.84,-31.53 67,-28.74 67,-22 67,-17.68 63.24,-14.99 57.84,-13.91\"/>\n<polygon fill=\"black\" stroke=\"black\" points=\"57.67,-10.41 47.58,-13.63 57.48,-17.4 57.67,-10.41\"/>\n<text text-anchor=\"middle\" x=\"80\" y=\"-18.3\" font-family=\"Times,serif\" font-size=\"14.00\">True</text>\n</g>\n</g>\n</svg>\n",
            "text/plain": [
              "<graphviz.dot.Digraph at 0x7f31bc099e50>"
            ]
          },
          "execution_count": 8,
          "metadata": {},
          "output_type": "execute_result"
        }
      ],
      "source": [
        "#Disjunction introduction: from p, infer ( p ∨ q ) . from q, infer ( p ∨ q ) .\n",
        "#TYPE YOUR IMPLEMENTATION FOR CONJUCTION ELIMINATION HERE\n",
        "from flloat.parser.ltlf import LTLfParser\n",
        "\n",
        "# parse the formula\n",
        "parser = LTLfParser()\n",
        "formula = \"F (q -> (p | q))\"\n",
        "parsed_formula = parser(formula)\n",
        "dfa = parsed_formula.to_automaton()\n",
        "graph = dfa.to_graphviz()\n",
        "graph"
      ]
    },
    {
      "cell_type": "code",
      "execution_count": null,
      "metadata": {
        "colab": {
          "base_uri": "https://localhost:8080/",
          "height": 304
        },
        "id": "fwTFzw-m-dAY",
        "outputId": "d83691d7-d8fd-4652-9ce0-1314ed0de9c9"
      },
      "outputs": [
        {
          "data": {
            "image/svg+xml": "<?xml version=\"1.0\" encoding=\"UTF-8\" standalone=\"no\"?>\n<!DOCTYPE svg PUBLIC \"-//W3C//DTD SVG 1.1//EN\"\n \"http://www.w3.org/Graphics/SVG/1.1/DTD/svg11.dtd\">\n<!-- Generated by graphviz version 2.43.0 (0)\n -->\n<!-- Title: %3 Pages: 1 -->\n<svg width=\"101pt\" height=\"212pt\"\n viewBox=\"0.00 0.00 101.00 212.00\" xmlns=\"http://www.w3.org/2000/svg\" xmlns:xlink=\"http://www.w3.org/1999/xlink\">\n<g id=\"graph0\" class=\"graph\" transform=\"scale(1 1) rotate(0) translate(4 208)\">\n<title>%3</title>\n<polygon fill=\"white\" stroke=\"transparent\" points=\"-4,4 -4,-208 97,-208 97,4 -4,4\"/>\n<!-- fake -->\n<g id=\"node1\" class=\"node\">\n<title>fake</title>\n</g>\n<!-- 0 -->\n<g id=\"node2\" class=\"node\">\n<title>0</title>\n<ellipse fill=\"none\" stroke=\"black\" cx=\"27\" cy=\"-113\" rx=\"27\" ry=\"18\"/>\n<text text-anchor=\"middle\" x=\"27\" y=\"-109.3\" font-family=\"Times,serif\" font-size=\"14.00\">0</text>\n</g>\n<!-- fake&#45;&gt;0 -->\n<g id=\"edge1\" class=\"edge\">\n<title>fake&#45;&gt;0</title>\n<path fill=\"none\" stroke=\"black\" stroke-width=\"2\" d=\"M27,-167.81C27,-159.79 27,-150.05 27,-141.07\"/>\n<polygon fill=\"black\" stroke=\"black\" stroke-width=\"2\" points=\"30.5,-141.03 27,-131.03 23.5,-141.03 30.5,-141.03\"/>\n</g>\n<!-- 1 -->\n<g id=\"node3\" class=\"node\">\n<title>1</title>\n<ellipse fill=\"none\" stroke=\"black\" cx=\"27\" cy=\"-22\" rx=\"18\" ry=\"18\"/>\n<ellipse fill=\"none\" stroke=\"black\" cx=\"27\" cy=\"-22\" rx=\"22\" ry=\"22\"/>\n<text text-anchor=\"middle\" x=\"27\" y=\"-18.3\" font-family=\"Times,serif\" font-size=\"14.00\">1</text>\n</g>\n<!-- 0&#45;&gt;1 -->\n<g id=\"edge3\" class=\"edge\">\n<title>0&#45;&gt;1</title>\n<path fill=\"none\" stroke=\"black\" d=\"M27,-94.84C27,-83.44 27,-68.13 27,-54.58\"/>\n<polygon fill=\"black\" stroke=\"black\" points=\"30.5,-54.19 27,-44.19 23.5,-54.19 30.5,-54.19\"/>\n<text text-anchor=\"middle\" x=\"40\" y=\"-65.8\" font-family=\"Times,serif\" font-size=\"14.00\">True</text>\n</g>\n<!-- 1&#45;&gt;1 -->\n<g id=\"edge2\" class=\"edge\">\n<title>1&#45;&gt;1</title>\n<path fill=\"none\" stroke=\"black\" d=\"M47.58,-30.37C57.84,-31.53 67,-28.74 67,-22 67,-17.68 63.24,-14.99 57.84,-13.91\"/>\n<polygon fill=\"black\" stroke=\"black\" points=\"57.67,-10.41 47.58,-13.63 57.48,-17.4 57.67,-10.41\"/>\n<text text-anchor=\"middle\" x=\"80\" y=\"-18.3\" font-family=\"Times,serif\" font-size=\"14.00\">True</text>\n</g>\n</g>\n</svg>\n",
            "text/plain": [
              "<graphviz.dot.Digraph at 0x7f31a3f9cb50>"
            ]
          },
          "execution_count": 12,
          "metadata": {},
          "output_type": "execute_result"
        }
      ],
      "source": [
        "#Disjunction elimination: from ( p ∨ q ) and ( p → r ) and ( q → r ) , infer r.\n",
        "#TYPE YOUR IMPLEMENTATION FOR CONJUCTION ELIMINATION HERE\n",
        "from flloat.parser.ltlf import LTLfParser\n",
        "\n",
        "# parse the formula\n",
        "parser = LTLfParser()\n",
        "formula = \"F (((p | q) & (p -> r) & (q -> r)) -> r)\"\n",
        "parsed_formula = parser(formula)\n",
        "dfa = parsed_formula.to_automaton()\n",
        "graph = dfa.to_graphviz()\n",
        "graph"
      ]
    },
    {
      "cell_type": "code",
      "execution_count": null,
      "metadata": {
        "colab": {
          "base_uri": "https://localhost:8080/",
          "height": 304
        },
        "id": "xQ9Lw0za-jni",
        "outputId": "42006527-afc8-4721-e97e-f88260a042de"
      },
      "outputs": [
        {
          "data": {
            "image/svg+xml": "<?xml version=\"1.0\" encoding=\"UTF-8\" standalone=\"no\"?>\n<!DOCTYPE svg PUBLIC \"-//W3C//DTD SVG 1.1//EN\"\n \"http://www.w3.org/Graphics/SVG/1.1/DTD/svg11.dtd\">\n<!-- Generated by graphviz version 2.43.0 (0)\n -->\n<!-- Title: %3 Pages: 1 -->\n<svg width=\"101pt\" height=\"212pt\"\n viewBox=\"0.00 0.00 101.00 212.00\" xmlns=\"http://www.w3.org/2000/svg\" xmlns:xlink=\"http://www.w3.org/1999/xlink\">\n<g id=\"graph0\" class=\"graph\" transform=\"scale(1 1) rotate(0) translate(4 208)\">\n<title>%3</title>\n<polygon fill=\"white\" stroke=\"transparent\" points=\"-4,4 -4,-208 97,-208 97,4 -4,4\"/>\n<!-- fake -->\n<g id=\"node1\" class=\"node\">\n<title>fake</title>\n</g>\n<!-- 0 -->\n<g id=\"node2\" class=\"node\">\n<title>0</title>\n<ellipse fill=\"none\" stroke=\"black\" cx=\"27\" cy=\"-113\" rx=\"27\" ry=\"18\"/>\n<text text-anchor=\"middle\" x=\"27\" y=\"-109.3\" font-family=\"Times,serif\" font-size=\"14.00\">0</text>\n</g>\n<!-- fake&#45;&gt;0 -->\n<g id=\"edge1\" class=\"edge\">\n<title>fake&#45;&gt;0</title>\n<path fill=\"none\" stroke=\"black\" stroke-width=\"2\" d=\"M27,-167.81C27,-159.79 27,-150.05 27,-141.07\"/>\n<polygon fill=\"black\" stroke=\"black\" stroke-width=\"2\" points=\"30.5,-141.03 27,-131.03 23.5,-141.03 30.5,-141.03\"/>\n</g>\n<!-- 1 -->\n<g id=\"node3\" class=\"node\">\n<title>1</title>\n<ellipse fill=\"none\" stroke=\"black\" cx=\"27\" cy=\"-22\" rx=\"18\" ry=\"18\"/>\n<ellipse fill=\"none\" stroke=\"black\" cx=\"27\" cy=\"-22\" rx=\"22\" ry=\"22\"/>\n<text text-anchor=\"middle\" x=\"27\" y=\"-18.3\" font-family=\"Times,serif\" font-size=\"14.00\">1</text>\n</g>\n<!-- 0&#45;&gt;1 -->\n<g id=\"edge3\" class=\"edge\">\n<title>0&#45;&gt;1</title>\n<path fill=\"none\" stroke=\"black\" d=\"M27,-94.84C27,-83.44 27,-68.13 27,-54.58\"/>\n<polygon fill=\"black\" stroke=\"black\" points=\"30.5,-54.19 27,-44.19 23.5,-54.19 30.5,-54.19\"/>\n<text text-anchor=\"middle\" x=\"40\" y=\"-65.8\" font-family=\"Times,serif\" font-size=\"14.00\">True</text>\n</g>\n<!-- 1&#45;&gt;1 -->\n<g id=\"edge2\" class=\"edge\">\n<title>1&#45;&gt;1</title>\n<path fill=\"none\" stroke=\"black\" d=\"M47.58,-30.37C57.84,-31.53 67,-28.74 67,-22 67,-17.68 63.24,-14.99 57.84,-13.91\"/>\n<polygon fill=\"black\" stroke=\"black\" points=\"57.67,-10.41 47.58,-13.63 57.48,-17.4 57.67,-10.41\"/>\n<text text-anchor=\"middle\" x=\"80\" y=\"-18.3\" font-family=\"Times,serif\" font-size=\"14.00\">True</text>\n</g>\n</g>\n</svg>\n",
            "text/plain": [
              "<graphviz.dot.Digraph at 0x7f31a3fd41f0>"
            ]
          },
          "execution_count": 13,
          "metadata": {},
          "output_type": "execute_result"
        }
      ],
      "source": [
        "#Biconditional introduction: from ( p → q ) and ( q → p ) , infer ( p ↔ q ).\n",
        "#TYPE YOUR IMPLEMENTATION FOR BICONDITIONAL INTRODUCTION HERE\n",
        "from flloat.parser.ltlf import LTLfParser\n",
        "\n",
        "# parse the formula\n",
        "parser = LTLfParser()\n",
        "formula = \"F (((p -> q) & (q -> p)) -> (p <-> q))\"\n",
        "parsed_formula = parser(formula)\n",
        "dfa = parsed_formula.to_automaton()\n",
        "graph = dfa.to_graphviz()\n",
        "graph\n"
      ]
    },
    {
      "cell_type": "code",
      "execution_count": null,
      "metadata": {
        "colab": {
          "base_uri": "https://localhost:8080/",
          "height": 304
        },
        "id": "JjWqMIGO-n33",
        "outputId": "1c601175-a7dd-46f4-c6c1-a50538da06b4"
      },
      "outputs": [
        {
          "data": {
            "image/svg+xml": "<?xml version=\"1.0\" encoding=\"UTF-8\" standalone=\"no\"?>\n<!DOCTYPE svg PUBLIC \"-//W3C//DTD SVG 1.1//EN\"\n \"http://www.w3.org/Graphics/SVG/1.1/DTD/svg11.dtd\">\n<!-- Generated by graphviz version 2.43.0 (0)\n -->\n<!-- Title: %3 Pages: 1 -->\n<svg width=\"101pt\" height=\"212pt\"\n viewBox=\"0.00 0.00 101.00 212.00\" xmlns=\"http://www.w3.org/2000/svg\" xmlns:xlink=\"http://www.w3.org/1999/xlink\">\n<g id=\"graph0\" class=\"graph\" transform=\"scale(1 1) rotate(0) translate(4 208)\">\n<title>%3</title>\n<polygon fill=\"white\" stroke=\"transparent\" points=\"-4,4 -4,-208 97,-208 97,4 -4,4\"/>\n<!-- fake -->\n<g id=\"node1\" class=\"node\">\n<title>fake</title>\n</g>\n<!-- 0 -->\n<g id=\"node2\" class=\"node\">\n<title>0</title>\n<ellipse fill=\"none\" stroke=\"black\" cx=\"27\" cy=\"-113\" rx=\"27\" ry=\"18\"/>\n<text text-anchor=\"middle\" x=\"27\" y=\"-109.3\" font-family=\"Times,serif\" font-size=\"14.00\">0</text>\n</g>\n<!-- fake&#45;&gt;0 -->\n<g id=\"edge1\" class=\"edge\">\n<title>fake&#45;&gt;0</title>\n<path fill=\"none\" stroke=\"black\" stroke-width=\"2\" d=\"M27,-167.81C27,-159.79 27,-150.05 27,-141.07\"/>\n<polygon fill=\"black\" stroke=\"black\" stroke-width=\"2\" points=\"30.5,-141.03 27,-131.03 23.5,-141.03 30.5,-141.03\"/>\n</g>\n<!-- 1 -->\n<g id=\"node3\" class=\"node\">\n<title>1</title>\n<ellipse fill=\"none\" stroke=\"black\" cx=\"27\" cy=\"-22\" rx=\"18\" ry=\"18\"/>\n<ellipse fill=\"none\" stroke=\"black\" cx=\"27\" cy=\"-22\" rx=\"22\" ry=\"22\"/>\n<text text-anchor=\"middle\" x=\"27\" y=\"-18.3\" font-family=\"Times,serif\" font-size=\"14.00\">1</text>\n</g>\n<!-- 0&#45;&gt;1 -->\n<g id=\"edge3\" class=\"edge\">\n<title>0&#45;&gt;1</title>\n<path fill=\"none\" stroke=\"black\" d=\"M27,-94.84C27,-83.44 27,-68.13 27,-54.58\"/>\n<polygon fill=\"black\" stroke=\"black\" points=\"30.5,-54.19 27,-44.19 23.5,-54.19 30.5,-54.19\"/>\n<text text-anchor=\"middle\" x=\"40\" y=\"-65.8\" font-family=\"Times,serif\" font-size=\"14.00\">True</text>\n</g>\n<!-- 1&#45;&gt;1 -->\n<g id=\"edge2\" class=\"edge\">\n<title>1&#45;&gt;1</title>\n<path fill=\"none\" stroke=\"black\" d=\"M47.58,-30.37C57.84,-31.53 67,-28.74 67,-22 67,-17.68 63.24,-14.99 57.84,-13.91\"/>\n<polygon fill=\"black\" stroke=\"black\" points=\"57.67,-10.41 47.58,-13.63 57.48,-17.4 57.67,-10.41\"/>\n<text text-anchor=\"middle\" x=\"80\" y=\"-18.3\" font-family=\"Times,serif\" font-size=\"14.00\">True</text>\n</g>\n</g>\n</svg>\n",
            "text/plain": [
              "<graphviz.dot.Digraph at 0x7f31bc0ede20>"
            ]
          },
          "execution_count": 14,
          "metadata": {},
          "output_type": "execute_result"
        }
      ],
      "source": [
        "#Biconditional elimination: from ( p ↔ q ) , infer ( p → q ) . from ( p ↔ q ) , infer ( q → p ) .\n",
        "#TYPE YOUR IMPLEMENTATION FOR BICONDITIONAL ELIMINATION HERE\n",
        "from flloat.parser.ltlf import LTLfParser\n",
        "\n",
        "# parse the formula\n",
        "parser = LTLfParser()\n",
        "formula = \"F ((p <-> q) -> (p -> q))\"\n",
        "parsed_formula = parser(formula)\n",
        "dfa = parsed_formula.to_automaton()\n",
        "graph = dfa.to_graphviz()\n",
        "graph\n"
      ]
    },
    {
      "cell_type": "code",
      "execution_count": null,
      "metadata": {
        "colab": {
          "base_uri": "https://localhost:8080/",
          "height": 304
        },
        "id": "4-NWRkeU-rnw",
        "outputId": "bc0b02cd-adfa-4522-df38-28e713e6bb92"
      },
      "outputs": [
        {
          "data": {
            "image/svg+xml": "<?xml version=\"1.0\" encoding=\"UTF-8\" standalone=\"no\"?>\n<!DOCTYPE svg PUBLIC \"-//W3C//DTD SVG 1.1//EN\"\n \"http://www.w3.org/Graphics/SVG/1.1/DTD/svg11.dtd\">\n<!-- Generated by graphviz version 2.43.0 (0)\n -->\n<!-- Title: %3 Pages: 1 -->\n<svg width=\"101pt\" height=\"212pt\"\n viewBox=\"0.00 0.00 101.00 212.00\" xmlns=\"http://www.w3.org/2000/svg\" xmlns:xlink=\"http://www.w3.org/1999/xlink\">\n<g id=\"graph0\" class=\"graph\" transform=\"scale(1 1) rotate(0) translate(4 208)\">\n<title>%3</title>\n<polygon fill=\"white\" stroke=\"transparent\" points=\"-4,4 -4,-208 97,-208 97,4 -4,4\"/>\n<!-- fake -->\n<g id=\"node1\" class=\"node\">\n<title>fake</title>\n</g>\n<!-- 0 -->\n<g id=\"node2\" class=\"node\">\n<title>0</title>\n<ellipse fill=\"none\" stroke=\"black\" cx=\"27\" cy=\"-113\" rx=\"27\" ry=\"18\"/>\n<text text-anchor=\"middle\" x=\"27\" y=\"-109.3\" font-family=\"Times,serif\" font-size=\"14.00\">0</text>\n</g>\n<!-- fake&#45;&gt;0 -->\n<g id=\"edge1\" class=\"edge\">\n<title>fake&#45;&gt;0</title>\n<path fill=\"none\" stroke=\"black\" stroke-width=\"2\" d=\"M27,-167.81C27,-159.79 27,-150.05 27,-141.07\"/>\n<polygon fill=\"black\" stroke=\"black\" stroke-width=\"2\" points=\"30.5,-141.03 27,-131.03 23.5,-141.03 30.5,-141.03\"/>\n</g>\n<!-- 1 -->\n<g id=\"node3\" class=\"node\">\n<title>1</title>\n<ellipse fill=\"none\" stroke=\"black\" cx=\"27\" cy=\"-22\" rx=\"18\" ry=\"18\"/>\n<ellipse fill=\"none\" stroke=\"black\" cx=\"27\" cy=\"-22\" rx=\"22\" ry=\"22\"/>\n<text text-anchor=\"middle\" x=\"27\" y=\"-18.3\" font-family=\"Times,serif\" font-size=\"14.00\">1</text>\n</g>\n<!-- 0&#45;&gt;1 -->\n<g id=\"edge3\" class=\"edge\">\n<title>0&#45;&gt;1</title>\n<path fill=\"none\" stroke=\"black\" d=\"M27,-94.84C27,-83.44 27,-68.13 27,-54.58\"/>\n<polygon fill=\"black\" stroke=\"black\" points=\"30.5,-54.19 27,-44.19 23.5,-54.19 30.5,-54.19\"/>\n<text text-anchor=\"middle\" x=\"40\" y=\"-65.8\" font-family=\"Times,serif\" font-size=\"14.00\">True</text>\n</g>\n<!-- 1&#45;&gt;1 -->\n<g id=\"edge2\" class=\"edge\">\n<title>1&#45;&gt;1</title>\n<path fill=\"none\" stroke=\"black\" d=\"M47.58,-30.37C57.84,-31.53 67,-28.74 67,-22 67,-17.68 63.24,-14.99 57.84,-13.91\"/>\n<polygon fill=\"black\" stroke=\"black\" points=\"57.67,-10.41 47.58,-13.63 57.48,-17.4 57.67,-10.41\"/>\n<text text-anchor=\"middle\" x=\"80\" y=\"-18.3\" font-family=\"Times,serif\" font-size=\"14.00\">True</text>\n</g>\n</g>\n</svg>\n",
            "text/plain": [
              "<graphviz.dot.Digraph at 0x7f31ecf68e50>"
            ]
          },
          "execution_count": 15,
          "metadata": {},
          "output_type": "execute_result"
        }
      ],
      "source": [
        "#Biconditional elimination: from ( p ↔ q ) , infer ( p → q ) . from ( p ↔ q ) , infer ( q → p ) .\n",
        "#TYPE YOUR IMPLEMENTATION FOR MODUS PONENS HERE\n",
        "from flloat.parser.ltlf import LTLfParser\n",
        "\n",
        "# parse the formula\n",
        "parser = LTLfParser()\n",
        "formula = \"F ((p <-> q) -> (q -> p))\"\n",
        "parsed_formula = parser(formula)\n",
        "dfa = parsed_formula.to_automaton()\n",
        "graph = dfa.to_graphviz()\n",
        "graph"
      ]
    },
    {
      "cell_type": "code",
      "execution_count": null,
      "metadata": {
        "colab": {
          "base_uri": "https://localhost:8080/",
          "height": 304
        },
        "id": "Jl4cTKON-vjw",
        "outputId": "bb2e36ff-4d78-4482-e378-ceadfac310ac"
      },
      "outputs": [
        {
          "data": {
            "image/svg+xml": "<?xml version=\"1.0\" encoding=\"UTF-8\" standalone=\"no\"?>\n<!DOCTYPE svg PUBLIC \"-//W3C//DTD SVG 1.1//EN\"\n \"http://www.w3.org/Graphics/SVG/1.1/DTD/svg11.dtd\">\n<!-- Generated by graphviz version 2.43.0 (0)\n -->\n<!-- Title: %3 Pages: 1 -->\n<svg width=\"101pt\" height=\"212pt\"\n viewBox=\"0.00 0.00 101.00 212.00\" xmlns=\"http://www.w3.org/2000/svg\" xmlns:xlink=\"http://www.w3.org/1999/xlink\">\n<g id=\"graph0\" class=\"graph\" transform=\"scale(1 1) rotate(0) translate(4 208)\">\n<title>%3</title>\n<polygon fill=\"white\" stroke=\"transparent\" points=\"-4,4 -4,-208 97,-208 97,4 -4,4\"/>\n<!-- fake -->\n<g id=\"node1\" class=\"node\">\n<title>fake</title>\n</g>\n<!-- 0 -->\n<g id=\"node2\" class=\"node\">\n<title>0</title>\n<ellipse fill=\"none\" stroke=\"black\" cx=\"27\" cy=\"-113\" rx=\"27\" ry=\"18\"/>\n<text text-anchor=\"middle\" x=\"27\" y=\"-109.3\" font-family=\"Times,serif\" font-size=\"14.00\">0</text>\n</g>\n<!-- fake&#45;&gt;0 -->\n<g id=\"edge1\" class=\"edge\">\n<title>fake&#45;&gt;0</title>\n<path fill=\"none\" stroke=\"black\" stroke-width=\"2\" d=\"M27,-167.81C27,-159.79 27,-150.05 27,-141.07\"/>\n<polygon fill=\"black\" stroke=\"black\" stroke-width=\"2\" points=\"30.5,-141.03 27,-131.03 23.5,-141.03 30.5,-141.03\"/>\n</g>\n<!-- 1 -->\n<g id=\"node3\" class=\"node\">\n<title>1</title>\n<ellipse fill=\"none\" stroke=\"black\" cx=\"27\" cy=\"-22\" rx=\"18\" ry=\"18\"/>\n<ellipse fill=\"none\" stroke=\"black\" cx=\"27\" cy=\"-22\" rx=\"22\" ry=\"22\"/>\n<text text-anchor=\"middle\" x=\"27\" y=\"-18.3\" font-family=\"Times,serif\" font-size=\"14.00\">1</text>\n</g>\n<!-- 0&#45;&gt;1 -->\n<g id=\"edge3\" class=\"edge\">\n<title>0&#45;&gt;1</title>\n<path fill=\"none\" stroke=\"black\" d=\"M27,-94.84C27,-83.44 27,-68.13 27,-54.58\"/>\n<polygon fill=\"black\" stroke=\"black\" points=\"30.5,-54.19 27,-44.19 23.5,-54.19 30.5,-54.19\"/>\n<text text-anchor=\"middle\" x=\"40\" y=\"-65.8\" font-family=\"Times,serif\" font-size=\"14.00\">True</text>\n</g>\n<!-- 1&#45;&gt;1 -->\n<g id=\"edge2\" class=\"edge\">\n<title>1&#45;&gt;1</title>\n<path fill=\"none\" stroke=\"black\" d=\"M47.58,-30.37C57.84,-31.53 67,-28.74 67,-22 67,-17.68 63.24,-14.99 57.84,-13.91\"/>\n<polygon fill=\"black\" stroke=\"black\" points=\"57.67,-10.41 47.58,-13.63 57.48,-17.4 57.67,-10.41\"/>\n<text text-anchor=\"middle\" x=\"80\" y=\"-18.3\" font-family=\"Times,serif\" font-size=\"14.00\">True</text>\n</g>\n</g>\n</svg>\n",
            "text/plain": [
              "<graphviz.dot.Digraph at 0x7f31bc088220>"
            ]
          },
          "execution_count": 17,
          "metadata": {},
          "output_type": "execute_result"
        }
      ],
      "source": [
        "#Modus ponens (conditional elimination): from p and ( p → q ) , infer q.\n",
        "#TYPE YOUR IMPLEMENTATION FOR MODUS PONENS HERE\n",
        "from flloat.parser.ltlf import LTLfParser\n",
        "\n",
        "# parse the formula\n",
        "parser = LTLfParser()\n",
        "formula = \"F (p & (p -> q) -> q)\"\n",
        "parsed_formula = parser(formula)\n",
        "dfa = parsed_formula.to_automaton()\n",
        "graph = dfa.to_graphviz()\n",
        "graph\n",
        "#TYPE YOUR IMPLEMENTATION FOR CONDITIONAL HERE"
      ]
    }
  ],
  "metadata": {
    "colab": {
      "provenance": []
    },
    "kernelspec": {
      "display_name": "Python 3",
      "language": "python",
      "name": "python3"
    },
    "language_info": {
      "codemirror_mode": {
        "name": "ipython",
        "version": 3
      },
      "file_extension": ".py",
      "mimetype": "text/x-python",
      "name": "python",
      "nbconvert_exporter": "python",
      "pygments_lexer": "ipython3",
      "version": "3.9.10"
    },
    "vscode": {
      "interpreter": {
        "hash": "aee8b7b246df8f9039afb4144a1f6fd8d2ca17a180786b69acc140d282b71a49"
      }
    }
  },
  "nbformat": 4,
  "nbformat_minor": 0
}
